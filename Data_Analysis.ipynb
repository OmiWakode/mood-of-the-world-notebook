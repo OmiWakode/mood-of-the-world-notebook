{
  "nbformat": 4,
  "nbformat_minor": 5,
  "metadata": {
    "kernelspec": {
      "display_name": "Python 3",
      "language": "python",
      "name": "python3"
    },
    "language_info": {
      "codemirror_mode": {
        "name": "ipython",
        "version": 3
      },
      "file_extension": ".py",
      "mimetype": "text/x-python",
      "name": "python",
      "nbconvert_exporter": "python",
      "pygments_lexer": "ipython3",
      "version": "3.9.5"
    },
    "colab": {
      "name": "Data-Analysis.ipynb",
      "provenance": [],
      "collapsed_sections": [],
      "toc_visible": true,
      "include_colab_link": true
    },
    "accelerator": "GPU"
  },
  "cells": [
    {
      "cell_type": "markdown",
      "metadata": {
        "id": "view-in-github",
        "colab_type": "text"
      },
      "source": [
        "<a href=\"https://colab.research.google.com/github/OmiWakode/mood-of-the-world-notebook/blob/main/Data_Analysis.ipynb\" target=\"_parent\"><img src=\"https://colab.research.google.com/assets/colab-badge.svg\" alt=\"Open In Colab\"/></a>"
      ]
    },
    {
      "cell_type": "markdown",
      "metadata": {
        "id": "SL0t-mABBgBH"
      },
      "source": [
        "# Twitter Emotion Classification\n",
        "\n",
        "This notebook is implementation of the deep learning model used in my website : [mood-of-the-world](https://mood-of-the-world-327216.web.app).\n",
        "It focusses to classify emotion of a country (tweets), based on sentiment attached to them, with the aim to classify the tweets based on one or more of 11 emotions: the eight Plutchik Categories:\n",
        "- joy,    \n",
        "- sadness,\n",
        "- anger,\n",
        "- fear,\n",
        "- trust,\n",
        "- disgust,\n",
        "- surprise,\n",
        "- anticipation\n",
        "</br> *plus*\n",
        "- love,\n",
        "- optimism,\n",
        "- pessimism\n",
        "<center>\n",
        "<img src=\"https://www.visualcapitalist.com/wp-content/uploads/2021/04/plutchik-emotion-wheel.png\" width=\"400\">\n",
        "</center>\n",
        "\n",
        "## using deep learning methods to perform mutilabel classification of the text. LSTM ( Long term short memory) deep learning model for text classification problem."
      ],
      "id": "SL0t-mABBgBH"
    },
    {
      "cell_type": "markdown",
      "metadata": {
        "id": "1VaNoEPsgzfd"
      },
      "source": [
        "Data set was provided by [SemEval](https://aclanthology.org/S18-1001/)"
      ],
      "id": "1VaNoEPsgzfd"
    },
    {
      "cell_type": "code",
      "metadata": {
        "id": "3a6b5df1"
      },
      "source": [
        "import pandas as pd\n",
        "import matplotlib.pyplot as plt\n",
        "import numpy as np"
      ],
      "id": "3a6b5df1",
      "execution_count": null,
      "outputs": []
    },
    {
      "cell_type": "code",
      "metadata": {
        "colab": {
          "base_uri": "https://localhost:8080/"
        },
        "id": "WyNEPiaeoFRO",
        "outputId": "613b70bd-d986-4729-e389-3d9cbeee08f1"
      },
      "source": [
        "from google.colab import drive\n",
        "drive.mount('/content/drive')"
      ],
      "id": "WyNEPiaeoFRO",
      "execution_count": null,
      "outputs": [
        {
          "output_type": "stream",
          "name": "stdout",
          "text": [
            "Mounted at /content/drive\n"
          ]
        }
      ]
    },
    {
      "cell_type": "code",
      "metadata": {
        "id": "c19a47a5"
      },
      "source": [
        "df_c = pd.read_csv(\"/content/drive/MyDrive/sentiment-analysis/data-set/E-c/2018-E-c-En-train.txt\", sep='\\t')"
      ],
      "id": "c19a47a5",
      "execution_count": null,
      "outputs": []
    },
    {
      "cell_type": "code",
      "metadata": {
        "id": "aC7DycdDxbfN"
      },
      "source": [
        "df_val =  pd.read_csv(\"/content/drive/MyDrive/sentiment-analysis/data-set/E-c/2018-E-c-En-dev.txt\", sep='\\t')"
      ],
      "id": "aC7DycdDxbfN",
      "execution_count": null,
      "outputs": []
    },
    {
      "cell_type": "code",
      "metadata": {
        "id": "msr04rRaFAyG"
      },
      "source": [
        "df_gold = pd.read_csv(\"/content/drive/MyDrive/sentiment-analysis/data-set/E-c/2018-E-c-En-test-gold.txt\", sep='\\t')"
      ],
      "id": "msr04rRaFAyG",
      "execution_count": null,
      "outputs": []
    },
    {
      "cell_type": "code",
      "metadata": {
        "colab": {
          "base_uri": "https://localhost:8080/",
          "height": 864
        },
        "id": "cd5149a4",
        "outputId": "bf8386cf-aeb7-465d-c8e3-0e2e189e4ba5"
      },
      "source": [
        "df_gold"
      ],
      "id": "cd5149a4",
      "execution_count": null,
      "outputs": [
        {
          "output_type": "execute_result",
          "data": {
            "text/html": [
              "<div>\n",
              "<style scoped>\n",
              "    .dataframe tbody tr th:only-of-type {\n",
              "        vertical-align: middle;\n",
              "    }\n",
              "\n",
              "    .dataframe tbody tr th {\n",
              "        vertical-align: top;\n",
              "    }\n",
              "\n",
              "    .dataframe thead th {\n",
              "        text-align: right;\n",
              "    }\n",
              "</style>\n",
              "<table border=\"1\" class=\"dataframe\">\n",
              "  <thead>\n",
              "    <tr style=\"text-align: right;\">\n",
              "      <th></th>\n",
              "      <th>ID</th>\n",
              "      <th>Tweet</th>\n",
              "      <th>anger</th>\n",
              "      <th>anticipation</th>\n",
              "      <th>disgust</th>\n",
              "      <th>fear</th>\n",
              "      <th>joy</th>\n",
              "      <th>love</th>\n",
              "      <th>optimism</th>\n",
              "      <th>pessimism</th>\n",
              "      <th>sadness</th>\n",
              "      <th>surprise</th>\n",
              "      <th>trust</th>\n",
              "    </tr>\n",
              "  </thead>\n",
              "  <tbody>\n",
              "    <tr>\n",
              "      <th>0</th>\n",
              "      <td>2018-En-01559</td>\n",
              "      <td>@Adnan__786__ @AsYouNotWish Dont worry Indian ...</td>\n",
              "      <td>1</td>\n",
              "      <td>1</td>\n",
              "      <td>0</td>\n",
              "      <td>0</td>\n",
              "      <td>0</td>\n",
              "      <td>0</td>\n",
              "      <td>1</td>\n",
              "      <td>0</td>\n",
              "      <td>0</td>\n",
              "      <td>0</td>\n",
              "      <td>1</td>\n",
              "    </tr>\n",
              "    <tr>\n",
              "      <th>1</th>\n",
              "      <td>2018-En-03739</td>\n",
              "      <td>Academy of Sciences, eschews the normally sobe...</td>\n",
              "      <td>0</td>\n",
              "      <td>0</td>\n",
              "      <td>1</td>\n",
              "      <td>0</td>\n",
              "      <td>0</td>\n",
              "      <td>0</td>\n",
              "      <td>0</td>\n",
              "      <td>0</td>\n",
              "      <td>0</td>\n",
              "      <td>0</td>\n",
              "      <td>0</td>\n",
              "    </tr>\n",
              "    <tr>\n",
              "      <th>2</th>\n",
              "      <td>2018-En-00385</td>\n",
              "      <td>I blew that opportunity -__- #mad</td>\n",
              "      <td>1</td>\n",
              "      <td>0</td>\n",
              "      <td>1</td>\n",
              "      <td>0</td>\n",
              "      <td>0</td>\n",
              "      <td>0</td>\n",
              "      <td>0</td>\n",
              "      <td>0</td>\n",
              "      <td>1</td>\n",
              "      <td>0</td>\n",
              "      <td>0</td>\n",
              "    </tr>\n",
              "    <tr>\n",
              "      <th>3</th>\n",
              "      <td>2018-En-03001</td>\n",
              "      <td>This time in 2 weeks I will be 30... 😥</td>\n",
              "      <td>0</td>\n",
              "      <td>0</td>\n",
              "      <td>0</td>\n",
              "      <td>0</td>\n",
              "      <td>1</td>\n",
              "      <td>0</td>\n",
              "      <td>0</td>\n",
              "      <td>0</td>\n",
              "      <td>1</td>\n",
              "      <td>0</td>\n",
              "      <td>0</td>\n",
              "    </tr>\n",
              "    <tr>\n",
              "      <th>4</th>\n",
              "      <td>2018-En-01988</td>\n",
              "      <td>#Deppression is real. Partners w/ #depressed p...</td>\n",
              "      <td>0</td>\n",
              "      <td>0</td>\n",
              "      <td>0</td>\n",
              "      <td>1</td>\n",
              "      <td>0</td>\n",
              "      <td>0</td>\n",
              "      <td>0</td>\n",
              "      <td>0</td>\n",
              "      <td>1</td>\n",
              "      <td>0</td>\n",
              "      <td>0</td>\n",
              "    </tr>\n",
              "    <tr>\n",
              "      <th>...</th>\n",
              "      <td>...</td>\n",
              "      <td>...</td>\n",
              "      <td>...</td>\n",
              "      <td>...</td>\n",
              "      <td>...</td>\n",
              "      <td>...</td>\n",
              "      <td>...</td>\n",
              "      <td>...</td>\n",
              "      <td>...</td>\n",
              "      <td>...</td>\n",
              "      <td>...</td>\n",
              "      <td>...</td>\n",
              "      <td>...</td>\n",
              "    </tr>\n",
              "    <tr>\n",
              "      <th>3254</th>\n",
              "      <td>2018-En-03848</td>\n",
              "      <td>shaft abrasions from panties merely shifted to...</td>\n",
              "      <td>1</td>\n",
              "      <td>0</td>\n",
              "      <td>0</td>\n",
              "      <td>0</td>\n",
              "      <td>0</td>\n",
              "      <td>0</td>\n",
              "      <td>0</td>\n",
              "      <td>1</td>\n",
              "      <td>0</td>\n",
              "      <td>0</td>\n",
              "      <td>0</td>\n",
              "    </tr>\n",
              "    <tr>\n",
              "      <th>3255</th>\n",
              "      <td>2018-En-00416</td>\n",
              "      <td>@lomadia heard of Remothered? Indie horror gam...</td>\n",
              "      <td>0</td>\n",
              "      <td>1</td>\n",
              "      <td>0</td>\n",
              "      <td>0</td>\n",
              "      <td>0</td>\n",
              "      <td>0</td>\n",
              "      <td>0</td>\n",
              "      <td>1</td>\n",
              "      <td>0</td>\n",
              "      <td>0</td>\n",
              "      <td>0</td>\n",
              "    </tr>\n",
              "    <tr>\n",
              "      <th>3256</th>\n",
              "      <td>2018-En-03717</td>\n",
              "      <td>All this fake outrage. Y'all need to stop 🤣</td>\n",
              "      <td>1</td>\n",
              "      <td>0</td>\n",
              "      <td>1</td>\n",
              "      <td>0</td>\n",
              "      <td>0</td>\n",
              "      <td>0</td>\n",
              "      <td>0</td>\n",
              "      <td>0</td>\n",
              "      <td>0</td>\n",
              "      <td>0</td>\n",
              "      <td>0</td>\n",
              "    </tr>\n",
              "    <tr>\n",
              "      <th>3257</th>\n",
              "      <td>2018-En-03504</td>\n",
              "      <td>Would be ever so grateful if you could record ...</td>\n",
              "      <td>0</td>\n",
              "      <td>0</td>\n",
              "      <td>0</td>\n",
              "      <td>0</td>\n",
              "      <td>1</td>\n",
              "      <td>0</td>\n",
              "      <td>0</td>\n",
              "      <td>0</td>\n",
              "      <td>0</td>\n",
              "      <td>0</td>\n",
              "      <td>0</td>\n",
              "    </tr>\n",
              "    <tr>\n",
              "      <th>3258</th>\n",
              "      <td>2018-En-00115</td>\n",
              "      <td>I'm the wholesome drunk that sends people meme...</td>\n",
              "      <td>0</td>\n",
              "      <td>0</td>\n",
              "      <td>0</td>\n",
              "      <td>0</td>\n",
              "      <td>0</td>\n",
              "      <td>0</td>\n",
              "      <td>0</td>\n",
              "      <td>0</td>\n",
              "      <td>0</td>\n",
              "      <td>0</td>\n",
              "      <td>0</td>\n",
              "    </tr>\n",
              "  </tbody>\n",
              "</table>\n",
              "<p>3259 rows × 13 columns</p>\n",
              "</div>"
            ],
            "text/plain": [
              "                 ID  ... trust\n",
              "0     2018-En-01559  ...     1\n",
              "1     2018-En-03739  ...     0\n",
              "2     2018-En-00385  ...     0\n",
              "3     2018-En-03001  ...     0\n",
              "4     2018-En-01988  ...     0\n",
              "...             ...  ...   ...\n",
              "3254  2018-En-03848  ...     0\n",
              "3255  2018-En-00416  ...     0\n",
              "3256  2018-En-03717  ...     0\n",
              "3257  2018-En-03504  ...     0\n",
              "3258  2018-En-00115  ...     0\n",
              "\n",
              "[3259 rows x 13 columns]"
            ]
          },
          "metadata": {},
          "execution_count": 15
        }
      ]
    },
    {
      "cell_type": "markdown",
      "metadata": {
        "id": "g57KwkR89ikO"
      },
      "source": [
        "# EDA\n",
        "(Exploratory Data Analysis)"
      ],
      "id": "g57KwkR89ikO"
    },
    {
      "cell_type": "code",
      "metadata": {
        "colab": {
          "base_uri": "https://localhost:8080/"
        },
        "id": "0f0a1e3e",
        "outputId": "919c26e6-9d54-4367-9cf2-96dddecd76f6"
      },
      "source": [
        "df_gold[df_gold.anger==1]['anger'].count()"
      ],
      "id": "0f0a1e3e",
      "execution_count": null,
      "outputs": [
        {
          "output_type": "execute_result",
          "data": {
            "text/plain": [
              "1101"
            ]
          },
          "metadata": {},
          "execution_count": 10
        }
      ]
    },
    {
      "cell_type": "code",
      "metadata": {
        "colab": {
          "base_uri": "https://localhost:8080/"
        },
        "id": "83a95571",
        "outputId": "6712be30-aeb5-400b-f68c-9b305bf4e416"
      },
      "source": [
        "emotions = df_c.columns[2:].tolist()\n",
        "emotions"
      ],
      "id": "83a95571",
      "execution_count": null,
      "outputs": [
        {
          "output_type": "execute_result",
          "data": {
            "text/plain": [
              "['anger',\n",
              " 'anticipation',\n",
              " 'disgust',\n",
              " 'fear',\n",
              " 'joy',\n",
              " 'love',\n",
              " 'optimism',\n",
              " 'pessimism',\n",
              " 'sadness',\n",
              " 'surprise',\n",
              " 'trust']"
            ]
          },
          "metadata": {},
          "execution_count": 8
        }
      ]
    },
    {
      "cell_type": "code",
      "metadata": {
        "colab": {
          "base_uri": "https://localhost:8080/"
        },
        "id": "VHJ7nwd7JXCv",
        "outputId": "a6649129-4ce2-4ff1-8b9e-cf7cc2f22708"
      },
      "source": [
        "len(df_gold)"
      ],
      "id": "VHJ7nwd7JXCv",
      "execution_count": null,
      "outputs": [
        {
          "output_type": "execute_result",
          "data": {
            "text/plain": [
              "3259"
            ]
          },
          "metadata": {},
          "execution_count": 13
        }
      ]
    },
    {
      "cell_type": "code",
      "metadata": {
        "colab": {
          "base_uri": "https://localhost:8080/"
        },
        "id": "jd8wGYWKSXfd",
        "outputId": "06fc9ff9-8a1b-4d05-f35f-97ac3df3c465"
      },
      "source": [
        "df_c['anticipation'][0]"
      ],
      "id": "jd8wGYWKSXfd",
      "execution_count": null,
      "outputs": [
        {
          "output_type": "execute_result",
          "data": {
            "text/plain": [
              "1"
            ]
          },
          "metadata": {},
          "execution_count": 16
        }
      ]
    },
    {
      "cell_type": "code",
      "metadata": {
        "colab": {
          "base_uri": "https://localhost:8080/"
        },
        "id": "8QqqW84mRs4w",
        "outputId": "276df982-aa16-42b9-ce0f-63bdf41fe71c"
      },
      "source": [
        "count = 0\n",
        "for ind in df_c.index:\n",
        "  flag = True\n",
        "  for emotion in emotions:\n",
        "    if df_c[emotion][ind] == 1:\n",
        "      flag = False\n",
        "      break\n",
        "  if flag:\n",
        "    count= count+1\n",
        "    \n",
        "count"
      ],
      "id": "8QqqW84mRs4w",
      "execution_count": null,
      "outputs": [
        {
          "output_type": "execute_result",
          "data": {
            "text/plain": [
              "204"
            ]
          },
          "metadata": {
            "tags": []
          },
          "execution_count": 145
        }
      ]
    },
    {
      "cell_type": "code",
      "metadata": {
        "id": "52c5614e"
      },
      "source": [
        "emotion_dict = {}\n",
        "for emotion in emotions:\n",
        "  emotion_dict[emotion] = df_c[df_c[emotion]==1][emotion].count()\n",
        "emotion_dict['Neutral'] = count\n",
        "em_df_t = pd.DataFrame(data=emotion_dict, index=['Values'])\n",
        "em_df = em_df_t.T\n",
        "em_df = em_df.sort_values('Values', ascending= False)\n",
        "list_col = em_df.T.columns.tolist()\n",
        "list_col"
      ],
      "id": "52c5614e",
      "execution_count": null,
      "outputs": []
    },
    {
      "cell_type": "code",
      "metadata": {
        "id": "6562dc14"
      },
      "source": [
        "h = np.array(em_df.values)\n",
        "h = h.flatten()"
      ],
      "id": "6562dc14",
      "execution_count": null,
      "outputs": []
    },
    {
      "cell_type": "code",
      "metadata": {
        "id": "e492843e"
      },
      "source": [
        "plt.style.use('seaborn-whitegrid')\n",
        "plt.rcParams.update({'font.size': 12})"
      ],
      "id": "e492843e",
      "execution_count": null,
      "outputs": []
    },
    {
      "cell_type": "markdown",
      "metadata": {
        "id": "ITIuTaDR9ov9"
      },
      "source": [
        "## Visualizing the tweets per emotion"
      ],
      "id": "ITIuTaDR9ov9"
    },
    {
      "cell_type": "code",
      "metadata": {
        "colab": {
          "base_uri": "https://localhost:8080/",
          "height": 460
        },
        "id": "d654cf4c",
        "outputId": "00f6b87e-dbbb-4850-bd36-ae1b915315c1"
      },
      "source": [
        "plt.figure(figsize=(14,7))\n",
        "plt.xlabel('Emotions')\n",
        "plt.ylabel('No. of Tweets')\n",
        "plt.bar(x=list_col, height=h, color=['sienna','red', 'gold', \n",
        "                  'slateblue', 'forestgreen' ,'royalblue', 'seagreen', 'purple', 'pink','cyan','teal']);\n",
        "plt.title('No. of Tweeets per Emotion');\n"
      ],
      "id": "d654cf4c",
      "execution_count": null,
      "outputs": [
        {
          "output_type": "display_data",
          "data": {
            "image/png": "[encoded data removed]",
            "text/plain": [
              "<Figure size 1008x504 with 1 Axes>"
            ]
          },
          "metadata": {
            "tags": []
          }
        }
      ]
    },
    {
      "cell_type": "code",
      "metadata": {
        "colab": {
          "base_uri": "https://localhost:8080/",
          "height": 442
        },
        "id": "PJf5kAw0x3Kr",
        "outputId": "c4f2e92e-fe8e-489d-ec9f-e31b99f5d4f8"
      },
      "source": [
        "df_val.head()"
      ],
      "id": "PJf5kAw0x3Kr",
      "execution_count": null,
      "outputs": [
        {
          "output_type": "execute_result",
          "data": {
            "text/html": [
              "<div>\n",
              "<style scoped>\n",
              "    .dataframe tbody tr th:only-of-type {\n",
              "        vertical-align: middle;\n",
              "    }\n",
              "\n",
              "    .dataframe tbody tr th {\n",
              "        vertical-align: top;\n",
              "    }\n",
              "\n",
              "    .dataframe thead th {\n",
              "        text-align: right;\n",
              "    }\n",
              "</style>\n",
              "<table border=\"1\" class=\"dataframe\">\n",
              "  <thead>\n",
              "    <tr style=\"text-align: right;\">\n",
              "      <th></th>\n",
              "      <th>ID</th>\n",
              "      <th>Tweet</th>\n",
              "      <th>anger</th>\n",
              "      <th>anticipation</th>\n",
              "      <th>disgust</th>\n",
              "      <th>fear</th>\n",
              "      <th>joy</th>\n",
              "      <th>love</th>\n",
              "      <th>optimism</th>\n",
              "      <th>pessimism</th>\n",
              "      <th>sadness</th>\n",
              "      <th>surprise</th>\n",
              "      <th>trust</th>\n",
              "    </tr>\n",
              "  </thead>\n",
              "  <tbody>\n",
              "    <tr>\n",
              "      <th>0</th>\n",
              "      <td>2018-En-00866</td>\n",
              "      <td>@RanaAyyub @rajnathsingh Oh, hidden revenge an...</td>\n",
              "      <td>1</td>\n",
              "      <td>0</td>\n",
              "      <td>1</td>\n",
              "      <td>0</td>\n",
              "      <td>0</td>\n",
              "      <td>0</td>\n",
              "      <td>0</td>\n",
              "      <td>0</td>\n",
              "      <td>0</td>\n",
              "      <td>0</td>\n",
              "      <td>0</td>\n",
              "    </tr>\n",
              "    <tr>\n",
              "      <th>1</th>\n",
              "      <td>2018-En-02590</td>\n",
              "      <td>I'm doing all this to make sure you smiling do...</td>\n",
              "      <td>0</td>\n",
              "      <td>0</td>\n",
              "      <td>0</td>\n",
              "      <td>0</td>\n",
              "      <td>1</td>\n",
              "      <td>1</td>\n",
              "      <td>1</td>\n",
              "      <td>0</td>\n",
              "      <td>0</td>\n",
              "      <td>0</td>\n",
              "      <td>0</td>\n",
              "    </tr>\n",
              "    <tr>\n",
              "      <th>2</th>\n",
              "      <td>2018-En-03361</td>\n",
              "      <td>if not then #teamchristine bc all tana has don...</td>\n",
              "      <td>1</td>\n",
              "      <td>0</td>\n",
              "      <td>1</td>\n",
              "      <td>0</td>\n",
              "      <td>0</td>\n",
              "      <td>0</td>\n",
              "      <td>0</td>\n",
              "      <td>0</td>\n",
              "      <td>0</td>\n",
              "      <td>0</td>\n",
              "      <td>0</td>\n",
              "    </tr>\n",
              "    <tr>\n",
              "      <th>3</th>\n",
              "      <td>2018-En-03230</td>\n",
              "      <td>It is a #great start for #beginners to jump in...</td>\n",
              "      <td>0</td>\n",
              "      <td>0</td>\n",
              "      <td>0</td>\n",
              "      <td>0</td>\n",
              "      <td>1</td>\n",
              "      <td>0</td>\n",
              "      <td>1</td>\n",
              "      <td>0</td>\n",
              "      <td>0</td>\n",
              "      <td>0</td>\n",
              "      <td>0</td>\n",
              "    </tr>\n",
              "    <tr>\n",
              "      <th>4</th>\n",
              "      <td>2018-En-01143</td>\n",
              "      <td>My best friends driving for the first time wit...</td>\n",
              "      <td>0</td>\n",
              "      <td>0</td>\n",
              "      <td>0</td>\n",
              "      <td>1</td>\n",
              "      <td>0</td>\n",
              "      <td>0</td>\n",
              "      <td>0</td>\n",
              "      <td>0</td>\n",
              "      <td>0</td>\n",
              "      <td>0</td>\n",
              "      <td>0</td>\n",
              "    </tr>\n",
              "  </tbody>\n",
              "</table>\n",
              "</div>"
            ],
            "text/plain": [
              "              ID  ... trust\n",
              "0  2018-En-00866  ...     0\n",
              "1  2018-En-02590  ...     0\n",
              "2  2018-En-03361  ...     0\n",
              "3  2018-En-03230  ...     0\n",
              "4  2018-En-01143  ...     0\n",
              "\n",
              "[5 rows x 13 columns]"
            ]
          },
          "metadata": {
            "tags": []
          },
          "execution_count": 49
        }
      ]
    },
    {
      "cell_type": "markdown",
      "metadata": {
        "id": "4a2b196b"
      },
      "source": [
        "# Pre-Processing the Data "
      ],
      "id": "4a2b196b"
    },
    {
      "cell_type": "code",
      "metadata": {
        "id": "dhBnJUjl9ZYt",
        "colab": {
          "base_uri": "https://localhost:8080/"
        },
        "outputId": "d37e25c0-1912-41e3-f961-739639160aad"
      },
      "source": [
        "import nltk\n",
        "nltk.download(\"popular\")"
      ],
      "id": "dhBnJUjl9ZYt",
      "execution_count": null,
      "outputs": [
        {
          "output_type": "stream",
          "name": "stdout",
          "text": [
            "[nltk_data] Downloading collection 'popular'\n",
            "[nltk_data]    | \n",
            "[nltk_data]    | Downloading package cmudict to /root/nltk_data...\n",
            "[nltk_data]    |   Unzipping corpora/cmudict.zip.\n",
            "[nltk_data]    | Downloading package gazetteers to /root/nltk_data...\n",
            "[nltk_data]    |   Unzipping corpora/gazetteers.zip.\n",
            "[nltk_data]    | Downloading package genesis to /root/nltk_data...\n",
            "[nltk_data]    |   Unzipping corpora/genesis.zip.\n",
            "[nltk_data]    | Downloading package gutenberg to /root/nltk_data...\n",
            "[nltk_data]    |   Unzipping corpora/gutenberg.zip.\n",
            "[nltk_data]    | Downloading package inaugural to /root/nltk_data...\n",
            "[nltk_data]    |   Unzipping corpora/inaugural.zip.\n",
            "[nltk_data]    | Downloading package movie_reviews to\n",
            "[nltk_data]    |     /root/nltk_data...\n",
            "[nltk_data]    |   Unzipping corpora/movie_reviews.zip.\n",
            "[nltk_data]    | Downloading package names to /root/nltk_data...\n",
            "[nltk_data]    |   Unzipping corpora/names.zip.\n",
            "[nltk_data]    | Downloading package shakespeare to /root/nltk_data...\n",
            "[nltk_data]    |   Unzipping corpora/shakespeare.zip.\n",
            "[nltk_data]    | Downloading package stopwords to /root/nltk_data...\n",
            "[nltk_data]    |   Unzipping corpora/stopwords.zip.\n",
            "[nltk_data]    | Downloading package treebank to /root/nltk_data...\n",
            "[nltk_data]    |   Unzipping corpora/treebank.zip.\n",
            "[nltk_data]    | Downloading package twitter_samples to\n",
            "[nltk_data]    |     /root/nltk_data...\n",
            "[nltk_data]    |   Unzipping corpora/twitter_samples.zip.\n",
            "[nltk_data]    | Downloading package omw to /root/nltk_data...\n",
            "[nltk_data]    |   Unzipping corpora/omw.zip.\n",
            "[nltk_data]    | Downloading package wordnet to /root/nltk_data...\n",
            "[nltk_data]    |   Unzipping corpora/wordnet.zip.\n",
            "[nltk_data]    | Downloading package wordnet31 to /root/nltk_data...\n",
            "[nltk_data]    |   Unzipping corpora/wordnet31.zip.\n",
            "[nltk_data]    | Downloading package wordnet_ic to /root/nltk_data...\n",
            "[nltk_data]    |   Unzipping corpora/wordnet_ic.zip.\n",
            "[nltk_data]    | Downloading package words to /root/nltk_data...\n",
            "[nltk_data]    |   Unzipping corpora/words.zip.\n",
            "[nltk_data]    | Downloading package maxent_ne_chunker to\n",
            "[nltk_data]    |     /root/nltk_data...\n",
            "[nltk_data]    |   Unzipping chunkers/maxent_ne_chunker.zip.\n",
            "[nltk_data]    | Downloading package punkt to /root/nltk_data...\n",
            "[nltk_data]    |   Unzipping tokenizers/punkt.zip.\n",
            "[nltk_data]    | Downloading package snowball_data to\n",
            "[nltk_data]    |     /root/nltk_data...\n",
            "[nltk_data]    | Downloading package averaged_perceptron_tagger to\n",
            "[nltk_data]    |     /root/nltk_data...\n",
            "[nltk_data]    |   Unzipping taggers/averaged_perceptron_tagger.zip.\n",
            "[nltk_data]    | \n",
            "[nltk_data]  Done downloading collection popular\n"
          ]
        },
        {
          "output_type": "execute_result",
          "data": {
            "text/plain": [
              "True"
            ]
          },
          "metadata": {},
          "execution_count": 10
        }
      ]
    },
    {
      "cell_type": "code",
      "metadata": {
        "colab": {
          "base_uri": "https://localhost:8080/"
        },
        "id": "JMn7dkXLDYwK",
        "outputId": "f24bdad5-1410-489e-87bb-53654d198bff"
      },
      "source": [
        "df_c['Tweet']"
      ],
      "id": "JMn7dkXLDYwK",
      "execution_count": null,
      "outputs": [
        {
          "output_type": "execute_result",
          "data": {
            "text/plain": [
              "0       “Worry is a down payment on a problem you may ...\n",
              "1       Whatever you decide to do make sure it makes y...\n",
              "2       @Max_Kellerman  it also helps that the majorit...\n",
              "3       Accept the challenges so that you can literall...\n",
              "4       My roommate: it's okay that we can't spell bec...\n",
              "                              ...                        \n",
              "6833    @nicky57672 Hi! We are working towards your hi...\n",
              "6834    @andreamitchell said @berniesanders not only d...\n",
              "6835    @isthataspider @dhodgs i will fight this guy! ...\n",
              "6836    i wonder how a guy can broke his penis while h...\n",
              "6837     I'm highly animated even though I'm decomposing.\n",
              "Name: Tweet, Length: 6838, dtype: object"
            ]
          },
          "metadata": {},
          "execution_count": 6
        }
      ]
    },
    {
      "cell_type": "code",
      "metadata": {
        "colab": {
          "base_uri": "https://localhost:8080/"
        },
        "id": "RK51LQZfptyk",
        "outputId": "0124b163-1dd6-4a2b-fd3c-2e182c1c2bf3"
      },
      "source": [
        "!pip install emoji"
      ],
      "id": "RK51LQZfptyk",
      "execution_count": null,
      "outputs": [
        {
          "output_type": "stream",
          "name": "stdout",
          "text": [
            "Collecting emoji\n",
            "  Downloading emoji-1.6.1.tar.gz (170 kB)\n",
            "\u001b[?25l\r\u001b[K     |██                              | 10 kB 16.3 MB/s eta 0:00:01\r\u001b[K     |███▉                            | 20 kB 16.8 MB/s eta 0:00:01\r\u001b[K     |█████▉                          | 30 kB 15.8 MB/s eta 0:00:01\r\u001b[K     |███████▊                        | 40 kB 11.1 MB/s eta 0:00:01\r\u001b[K     |█████████▋                      | 51 kB 5.6 MB/s eta 0:00:01\r\u001b[K     |███████████▋                    | 61 kB 5.7 MB/s eta 0:00:01\r\u001b[K     |█████████████▌                  | 71 kB 6.1 MB/s eta 0:00:01\r\u001b[K     |███████████████▍                | 81 kB 6.8 MB/s eta 0:00:01\r\u001b[K     |█████████████████▍              | 92 kB 7.2 MB/s eta 0:00:01\r\u001b[K     |███████████████████▎            | 102 kB 5.6 MB/s eta 0:00:01\r\u001b[K     |█████████████████████▏          | 112 kB 5.6 MB/s eta 0:00:01\r\u001b[K     |███████████████████████▏        | 122 kB 5.6 MB/s eta 0:00:01\r\u001b[K     |█████████████████████████       | 133 kB 5.6 MB/s eta 0:00:01\r\u001b[K     |███████████████████████████     | 143 kB 5.6 MB/s eta 0:00:01\r\u001b[K     |█████████████████████████████   | 153 kB 5.6 MB/s eta 0:00:01\r\u001b[K     |██████████████████████████████▉ | 163 kB 5.6 MB/s eta 0:00:01\r\u001b[K     |████████████████████████████████| 170 kB 5.6 MB/s \n",
            "\u001b[?25hBuilding wheels for collected packages: emoji\n",
            "  Building wheel for emoji (setup.py) ... \u001b[?25l\u001b[?25hdone\n",
            "  Created wheel for emoji: filename=emoji-1.6.1-py3-none-any.whl size=169314 sha256=b02863d4eea0e22f49f69533619dc11af806ce7090c225ae24c758a5ccad445e\n",
            "  Stored in directory: /root/.cache/pip/wheels/ea/5f/d3/03d313ddb3c2a1a427bb4690f1621eea60fe6f2a30cc95940f\n",
            "Successfully built emoji\n",
            "Installing collected packages: emoji\n",
            "Successfully installed emoji-1.6.1\n"
          ]
        }
      ]
    },
    {
      "cell_type": "code",
      "metadata": {
        "id": "ZEpHSQzumONL"
      },
      "source": [
        "import string\n",
        "import re\n",
        "import emoji\n",
        "import itertools"
      ],
      "id": "ZEpHSQzumONL",
      "execution_count": null,
      "outputs": []
    },
    {
      "cell_type": "markdown",
      "metadata": {
        "id": "-YwFoCh4Fyy9"
      },
      "source": [
        "### Handling Contractions and Emojis in the tweet texts.\n"
      ],
      "id": "-YwFoCh4Fyy9"
    },
    {
      "cell_type": "code",
      "metadata": {
        "id": "_sSTHigrn2oF"
      },
      "source": [
        "def load_dict_contractions():\n",
        "    \n",
        "    return {\n",
        "        \"ain't\":\"is not\",\n",
        "        \"amn't\":\"am not\",\n",
        "        \"aren't\":\"are not\",\n",
        "        \"can't\":\"cannot\",\n",
        "        \"'cause\":\"because\",\n",
        "        \"couldn't\":\"could not\",\n",
        "        \"couldn't've\":\"could not have\",\n",
        "        \"could've\":\"could have\",\n",
        "        \"daren't\":\"dare not\",\n",
        "        \"daresn't\":\"dare not\",\n",
        "        \"dasn't\":\"dare not\",\n",
        "        \"didn't\":\"did not\",\n",
        "        \"doesn't\":\"does not\",\n",
        "        \"don't\":\"do not\",\n",
        "        \"e'er\":\"ever\",\n",
        "        \"em\":\"them\",\n",
        "        \"everyone's\":\"everyone is\",\n",
        "        \"finna\":\"fixing to\",\n",
        "        \"gimme\":\"give me\",\n",
        "        \"gonna\":\"going to\",\n",
        "        \"gon't\":\"go not\",\n",
        "        \"gotta\":\"got to\",\n",
        "        \"hadn't\":\"had not\",\n",
        "        \"hasn't\":\"has not\",\n",
        "        \"haven't\":\"have not\",\n",
        "        \"he'd\":\"he would\",\n",
        "        \"he'll\":\"he will\",\n",
        "        \"he's\":\"he is\",\n",
        "        \"he've\":\"he have\",\n",
        "        \"how'd\":\"how would\",\n",
        "        \"how'll\":\"how will\",\n",
        "        \"how're\":\"how are\",\n",
        "        \"how's\":\"how is\",\n",
        "        \"I'd\":\"I would\",\n",
        "        \"I'll\":\"I will\",\n",
        "        \"I'm\":\"I am\",\n",
        "        \"I'm'a\":\"I am about to\",\n",
        "        \"I'm'o\":\"I am going to\",\n",
        "        \"isn't\":\"is not\",\n",
        "        \"it'd\":\"it would\",\n",
        "        \"it'll\":\"it will\",\n",
        "        \"it's\":\"it is\",\n",
        "        \"I've\":\"I have\",\n",
        "        \"kinda\":\"kind of\",\n",
        "        \"let's\":\"let us\",\n",
        "        \"mayn't\":\"may not\",\n",
        "        \"may've\":\"may have\",\n",
        "        \"mightn't\":\"might not\",\n",
        "        \"might've\":\"might have\",\n",
        "        \"mustn't\":\"must not\",\n",
        "        \"mustn't've\":\"must not have\",\n",
        "        \"must've\":\"must have\",\n",
        "        \"needn't\":\"need not\",\n",
        "        \"ne'er\":\"never\",\n",
        "        \"o'\":\"of\",\n",
        "        \"o'er\":\"over\",\n",
        "        \"ol'\":\"old\",\n",
        "        \"oughtn't\":\"ought not\",\n",
        "        \"shalln't\":\"shall not\",\n",
        "        \"shan't\":\"shall not\",\n",
        "        \"she'd\":\"she would\",\n",
        "        \"she'll\":\"she will\",\n",
        "        \"she's\":\"she is\",\n",
        "        \"shouldn't\":\"should not\",\n",
        "        \"shouldn't've\":\"should not have\",\n",
        "        \"should've\":\"should have\",\n",
        "        \"somebody's\":\"somebody is\",\n",
        "        \"someone's\":\"someone is\",\n",
        "        \"something's\":\"something is\",\n",
        "        \"that'd\":\"that would\",\n",
        "        \"that'll\":\"that will\",\n",
        "        \"that're\":\"that are\",\n",
        "        \"that's\":\"that is\",\n",
        "        \"there'd\":\"there would\",\n",
        "        \"there'll\":\"there will\",\n",
        "        \"there're\":\"there are\",\n",
        "        \"there's\":\"there is\",\n",
        "        \"these're\":\"these are\",\n",
        "        \"they'd\":\"they would\",\n",
        "        \"they'll\":\"they will\",\n",
        "        \"they're\":\"they are\",\n",
        "        \"they've\":\"they have\",\n",
        "        \"this's\":\"this is\",\n",
        "        \"those're\":\"those are\",\n",
        "        \"'tis\":\"it is\",\n",
        "        \"'twas\":\"it was\",\n",
        "        \"wanna\":\"want to\",\n",
        "        \"wasn't\":\"was not\",\n",
        "        \"we'd\":\"we would\",\n",
        "        \"we'd've\":\"we would have\",\n",
        "        \"we'll\":\"we will\",\n",
        "        \"we're\":\"we are\",\n",
        "        \"weren't\":\"were not\",\n",
        "        \"we've\":\"we have\",\n",
        "        \"what'd\":\"what did\",\n",
        "        \"what'll\":\"what will\",\n",
        "        \"what're\":\"what are\",\n",
        "        \"what's\":\"what is\",\n",
        "        \"what've\":\"what have\",\n",
        "        \"when's\":\"when is\",\n",
        "        \"where'd\":\"where did\",\n",
        "        \"where're\":\"where are\",\n",
        "        \"where's\":\"where is\",\n",
        "        \"where've\":\"where have\",\n",
        "        \"which's\":\"which is\",\n",
        "        \"who'd\":\"who would\",\n",
        "        \"who'd've\":\"who would have\",\n",
        "        \"who'll\":\"who will\",\n",
        "        \"who're\":\"who are\",\n",
        "        \"who's\":\"who is\",\n",
        "        \"who've\":\"who have\",\n",
        "        \"why'd\":\"why did\",\n",
        "        \"why're\":\"why are\",\n",
        "        \"why's\":\"why is\",\n",
        "        \"won't\":\"will not\",\n",
        "        \"wouldn't\":\"would not\",\n",
        "        \"would've\":\"would have\",\n",
        "        \"y'all\":\"you all\",\n",
        "        \"you'd\":\"you would\",\n",
        "        \"you'll\":\"you will\",\n",
        "        \"you're\":\"you are\",\n",
        "        \"you've\":\"you have\",\n",
        "        \"Whatcha\":\"What are you\",\n",
        "        \"luv\":\"love\",\n",
        "        \"sux\":\"sucks\"\n",
        "        }\n"
      ],
      "id": "_sSTHigrn2oF",
      "execution_count": null,
      "outputs": []
    },
    {
      "cell_type": "markdown",
      "metadata": {
        "id": "8X13MFB5F68T"
      },
      "source": [
        "Coverting emojis to text"
      ],
      "id": "8X13MFB5F68T"
    },
    {
      "cell_type": "code",
      "metadata": {
        "id": "oOvZHsCPo3IA"
      },
      "source": [
        "def load_dict_smileys():\n",
        "    \n",
        "    return {\n",
        "        \":-)\" : \"smile\",\n",
        "        \";)\": \"wink\",\n",
        "        \":)\": \"smile\",\n",
        "        \":-]\":\"smile\",\n",
        "        \":-3\":\"smile\",\n",
        "        \":->\":\"smile\",\n",
        "        \"8-)\":\"smile\",\n",
        "        \":-}\":\"smile\",\n",
        "        \":)\":\"smile\",\n",
        "        \":]\":\"smile\",\n",
        "        \":3\":\"smile\",\n",
        "        \":>\":\"smile\",\n",
        "        \"8)\":\"smile\",\n",
        "        \":}\":\"smile\",\n",
        "        \":o)\":\"smile\",\n",
        "        \":c)\":\"smile\",\n",
        "        \":^)\":\"smile\",\n",
        "        \"=]\":\"smile\",\n",
        "        \"=)\":\"smile\",\n",
        "        \":-))\":\"smile\",\n",
        "        \":‑D\":\"smile\",\n",
        "        \"8‑D\":\"laugh\",\n",
        "        \"x‑D\":\"laugh\",\n",
        "        \"X‑D\":\"laugh\",\n",
        "        \":D\":\"smile\",\n",
        "        \"8D\":\"smily\",\n",
        "        \"xD\":\"laugh\",\n",
        "        \"XD\":\"laugh\",\n",
        "        \":‑(\":\"sad\",\n",
        "        \":‑c\":\"sad\",\n",
        "        \":‑<\":\"sad\",\n",
        "        \":‑[\":\"sad\",\n",
        "        \":(\":\"sad\",\n",
        "        \":c\":\"sad\",\n",
        "        \":<\":\"sad\",\n",
        "        \":[\":\"sad\",\n",
        "        \":-||\":\"sad\",\n",
        "        \">:[\":\"sad\",\n",
        "        \":{\":\"sad\",\n",
        "        \":@\":\"sad\",\n",
        "        \">:(\":\"sad\",\n",
        "        \":')\": \"tear_of_joy\",\n",
        "        \":'‑(\":\"cry\",\n",
        "        \":'(\":\"cry\",\n",
        "        \":‑P\":\"playful\",\n",
        "        \"X‑P\":\"playful\",\n",
        "        \"x‑p\":\"playful\",\n",
        "        \":‑p\":\"playful\",\n",
        "        \":‑Þ\":\"playful\",\n",
        "        \":‑þ\":\"playful\",\n",
        "        \":‑b\":\"playful\",\n",
        "        \":P\":\"playful\",\n",
        "        \"XP\":\"playful\",\n",
        "        \"xp\":\"playful\",\n",
        "        \":p\":\"playful\",\n",
        "        \":Þ\":\"playful\",\n",
        "        \":þ\":\"playful\",\n",
        "        \":b\":\"playful\",\n",
        "        \"<3\":\"love\",\n",
        "        \";)\": \"wink\",\n",
        "        }"
      ],
      "id": "oOvZHsCPo3IA",
      "execution_count": null,
      "outputs": []
    },
    {
      "cell_type": "markdown",
      "metadata": {
        "id": "pWBZUhuZF_Pd"
      },
      "source": [
        "###  Lemmatisation, Stemming and Tokenizing the text data"
      ],
      "id": "pWBZUhuZF_Pd"
    },
    {
      "cell_type": "code",
      "metadata": {
        "id": "ptKGp0fOsh6v"
      },
      "source": [
        "\n",
        "from keras.preprocessing.text import Tokenizer\n",
        "from keras.preprocessing.sequence import pad_sequences\n",
        "from keras import regularizers\n"
      ],
      "id": "ptKGp0fOsh6v",
      "execution_count": null,
      "outputs": []
    },
    {
      "cell_type": "code",
      "metadata": {
        "id": "Y3xhAVAeHgca"
      },
      "source": [
        "from nltk.stem import WordNetLemmatizer, PorterStemmer\n",
        "from nltk.corpus import stopwords\n",
        "from nltk.tokenize import TweetTokenizer  \n",
        "\n",
        "#Lemmanization\n",
        "wordnet_lemmatizer = WordNetLemmatizer()\n",
        "#Stemming\n",
        "\n",
        "stopwords = set(stopwords.words('english'))\n",
        "\n",
        "def tokenize_lemma_stopwords(text):\n",
        "\n",
        "    #removing the escape sequences\n",
        "   \n",
        "\n",
        "    text = text.replace(\"\\\\n\", \" \")\n",
        "    #text = text.replace(\"\\r\", \" \")\n",
        "\n",
        "    \n",
        "    text = text.replace(\"“\", \" \")\n",
        "    \n",
        "    text = re.sub(r'https?:\\/\\/.*[\\r\\n]*', '', text)\n",
        "    text = re.sub(r'[0-9]', '', text)\n",
        "    text = re.sub(r'#', '', text)\n",
        "\n",
        "    #handling emoticons\n",
        "    SMILEY = load_dict_smileys()  \n",
        "    words = text.split()\n",
        "    reformed = [SMILEY[word] if word in SMILEY else word for word in words]\n",
        "    text = \" \".join(reformed)\n",
        "\n",
        "    \n",
        "\n",
        "    #handling contractions\n",
        "    CONTRACTIONS = load_dict_contractions()\n",
        "    text = re.sub(r\"’\", \"'\", text)\n",
        "    words = text.split()\n",
        "    reformed = [CONTRACTIONS[word] if word in CONTRACTIONS else word for word in words]\n",
        "    text = \" \".join(reformed)\n",
        "\n",
        "    text = re.sub(r'\\'', '', text)\n",
        "\n",
        "    \n",
        "    \n",
        "\n",
        "    #Deal with emojis\n",
        "    text = emoji.demojize(text)\n",
        "\n",
        "    text = text.replace(\":\",\" \")\n",
        "    text = ' '.join(text.split())\n",
        "\n",
        "\n",
        "\n",
        "    # Standardizing words\n",
        "    text = ''.join(''.join(s)[:2] for _, s in itertools.groupby(text))\n",
        "\n",
        "    # split string into words (tokens)\n",
        "    tokenizer = TweetTokenizer(preserve_case=False, \n",
        "                           strip_handles=True,\n",
        "                           reduce_len=True )\n",
        "    \n",
        "    tokens = tokenizer.tokenize(text)\n",
        "\n",
        "    #removing punctuations\n",
        "    tokens = [t for t in tokens if t not in string.punctuation]\n",
        "\n",
        "\n",
        "    # put words into base form\n",
        "    tokens = [wordnet_lemmatizer.lemmatize(t) for t in tokens]\n",
        "\n",
        "    # remove short words, they're probably not useful\n",
        "    tokens = [t for t in tokens if len(t) > 2]\n",
        "    tokens = [t for t in tokens if t not in stopwords] # remove stopwords\n",
        "\n",
        "\n",
        "    cleanedText = \" \".join(tokens)\n",
        "    return cleanedText\n",
        "\n",
        "def dataCleaning(df):\n",
        "    data = df.copy()\n",
        "    data[\"Tweet\"] = data[\"Tweet\"].apply(tokenize_lemma_stopwords)\n",
        "    return data\n",
        "\n"
      ],
      "id": "Y3xhAVAeHgca",
      "execution_count": null,
      "outputs": []
    },
    {
      "cell_type": "markdown",
      "metadata": {
        "id": "m9QZnvXOfQVX"
      },
      "source": [
        "### Encoding the text"
      ],
      "id": "m9QZnvXOfQVX"
    },
    {
      "cell_type": "code",
      "metadata": {
        "id": "F6Uy4aE91LV7"
      },
      "source": [
        " \n",
        "#max_words = 5000\n",
        "\n",
        "def encoding(df):\n",
        "\n",
        "  tokenizer = Tokenizer(num_words= 280)\n",
        "  tokenizer.fit_on_texts(df.Tweet)\n",
        "  sequences = tokenizer.texts_to_sequences(df.Tweet)\n",
        "  tweets = pad_sequences(sequences)\n",
        "  return tweets , len(tokenizer.word_index)+1, tokenizer\n",
        "\n"
      ],
      "id": "F6Uy4aE91LV7",
      "execution_count": null,
      "outputs": []
    },
    {
      "cell_type": "code",
      "metadata": {
        "colab": {
          "base_uri": "https://localhost:8080/"
        },
        "id": "Ad0ctb_vhjEC",
        "outputId": "f9e6ab0d-b4b4-4324-fd8a-8cb808a78850"
      },
      "source": [
        "clean_data = dataCleaning(df_c)\n",
        "clean_encoded = clean_data.copy()\n",
        "X, vocab_size, tokenizer = encoding(clean_encoded)\n",
        "X.shape"
      ],
      "id": "Ad0ctb_vhjEC",
      "execution_count": null,
      "outputs": [
        {
          "output_type": "execute_result",
          "data": {
            "text/plain": [
              "(6838, 76)"
            ]
          },
          "metadata": {},
          "execution_count": 168
        }
      ]
    },
    {
      "cell_type": "markdown",
      "metadata": {
        "id": "CIDBWtBwbqMd"
      },
      "source": [
        "### Training Glove embeddings"
      ],
      "id": "CIDBWtBwbqMd"
    },
    {
      "cell_type": "code",
      "metadata": {
        "id": "XYIT2ZFdTfdV"
      },
      "source": [
        "from numpy import array\n",
        "from numpy import asarray\n",
        "from numpy import zeros\n",
        "\n",
        "embeddings_dictionary = dict()\n",
        "\n",
        "glove_file = open('/content/drive/MyDrive/sentiment-analysis/data-set/glove.twitter.27B.200d.txt', encoding=\"utf8\")\n",
        "\n",
        "for line in glove_file:\n",
        "    records = line.split()\n",
        "    word = records[0]\n",
        "    vector_dimensions = asarray(records[1:], dtype='float32')\n",
        "    embeddings_dictionary[word] = vector_dimensions\n",
        "glove_file.close()\n",
        "\n",
        "embedding_matrix = zeros((vocab_size, 200))\n",
        "for word, index in tokenizer.word_index.items():\n",
        "    embedding_vector = embeddings_dictionary.get(word)\n",
        "    if embedding_vector is not None:\n",
        "        embedding_matrix[index] = embedding_vector"
      ],
      "id": "XYIT2ZFdTfdV",
      "execution_count": null,
      "outputs": []
    },
    {
      "cell_type": "code",
      "metadata": {
        "colab": {
          "base_uri": "https://localhost:8080/"
        },
        "id": "g74yVB_JmF3J",
        "outputId": "31092607-9af6-4a45-871f-bd6dfbe61d4f"
      },
      "source": [
        "vocab_size"
      ],
      "id": "g74yVB_JmF3J",
      "execution_count": null,
      "outputs": [
        {
          "output_type": "execute_result",
          "data": {
            "text/plain": [
              "10933"
            ]
          },
          "metadata": {},
          "execution_count": 169
        }
      ]
    },
    {
      "cell_type": "markdown",
      "metadata": {
        "id": "0lACc2NAKp7I"
      },
      "source": [
        ""
      ],
      "id": "0lACc2NAKp7I"
    },
    {
      "cell_type": "code",
      "metadata": {
        "colab": {
          "base_uri": "https://localhost:8080/",
          "height": 419
        },
        "id": "GmRXDN1dgPIS",
        "outputId": "ef3d54e8-5d85-4926-b50c-f3e2dfaec0b5"
      },
      "source": [
        "y = clean_data.drop( labels=['ID', 'Tweet'], axis=1)\n",
        "y"
      ],
      "id": "GmRXDN1dgPIS",
      "execution_count": null,
      "outputs": [
        {
          "output_type": "execute_result",
          "data": {
            "text/html": [
              "<div>\n",
              "<style scoped>\n",
              "    .dataframe tbody tr th:only-of-type {\n",
              "        vertical-align: middle;\n",
              "    }\n",
              "\n",
              "    .dataframe tbody tr th {\n",
              "        vertical-align: top;\n",
              "    }\n",
              "\n",
              "    .dataframe thead th {\n",
              "        text-align: right;\n",
              "    }\n",
              "</style>\n",
              "<table border=\"1\" class=\"dataframe\">\n",
              "  <thead>\n",
              "    <tr style=\"text-align: right;\">\n",
              "      <th></th>\n",
              "      <th>anger</th>\n",
              "      <th>anticipation</th>\n",
              "      <th>disgust</th>\n",
              "      <th>fear</th>\n",
              "      <th>joy</th>\n",
              "      <th>love</th>\n",
              "      <th>optimism</th>\n",
              "      <th>pessimism</th>\n",
              "      <th>sadness</th>\n",
              "      <th>surprise</th>\n",
              "      <th>trust</th>\n",
              "    </tr>\n",
              "  </thead>\n",
              "  <tbody>\n",
              "    <tr>\n",
              "      <th>0</th>\n",
              "      <td>0</td>\n",
              "      <td>1</td>\n",
              "      <td>0</td>\n",
              "      <td>0</td>\n",
              "      <td>0</td>\n",
              "      <td>0</td>\n",
              "      <td>1</td>\n",
              "      <td>0</td>\n",
              "      <td>0</td>\n",
              "      <td>0</td>\n",
              "      <td>1</td>\n",
              "    </tr>\n",
              "    <tr>\n",
              "      <th>1</th>\n",
              "      <td>0</td>\n",
              "      <td>0</td>\n",
              "      <td>0</td>\n",
              "      <td>0</td>\n",
              "      <td>1</td>\n",
              "      <td>1</td>\n",
              "      <td>1</td>\n",
              "      <td>0</td>\n",
              "      <td>0</td>\n",
              "      <td>0</td>\n",
              "      <td>0</td>\n",
              "    </tr>\n",
              "    <tr>\n",
              "      <th>2</th>\n",
              "      <td>1</td>\n",
              "      <td>0</td>\n",
              "      <td>1</td>\n",
              "      <td>0</td>\n",
              "      <td>1</td>\n",
              "      <td>0</td>\n",
              "      <td>1</td>\n",
              "      <td>0</td>\n",
              "      <td>0</td>\n",
              "      <td>0</td>\n",
              "      <td>0</td>\n",
              "    </tr>\n",
              "    <tr>\n",
              "      <th>3</th>\n",
              "      <td>0</td>\n",
              "      <td>0</td>\n",
              "      <td>0</td>\n",
              "      <td>0</td>\n",
              "      <td>1</td>\n",
              "      <td>0</td>\n",
              "      <td>1</td>\n",
              "      <td>0</td>\n",
              "      <td>0</td>\n",
              "      <td>0</td>\n",
              "      <td>0</td>\n",
              "    </tr>\n",
              "    <tr>\n",
              "      <th>4</th>\n",
              "      <td>1</td>\n",
              "      <td>0</td>\n",
              "      <td>1</td>\n",
              "      <td>0</td>\n",
              "      <td>0</td>\n",
              "      <td>0</td>\n",
              "      <td>0</td>\n",
              "      <td>0</td>\n",
              "      <td>0</td>\n",
              "      <td>0</td>\n",
              "      <td>0</td>\n",
              "    </tr>\n",
              "    <tr>\n",
              "      <th>...</th>\n",
              "      <td>...</td>\n",
              "      <td>...</td>\n",
              "      <td>...</td>\n",
              "      <td>...</td>\n",
              "      <td>...</td>\n",
              "      <td>...</td>\n",
              "      <td>...</td>\n",
              "      <td>...</td>\n",
              "      <td>...</td>\n",
              "      <td>...</td>\n",
              "      <td>...</td>\n",
              "    </tr>\n",
              "    <tr>\n",
              "      <th>6833</th>\n",
              "      <td>0</td>\n",
              "      <td>0</td>\n",
              "      <td>0</td>\n",
              "      <td>0</td>\n",
              "      <td>0</td>\n",
              "      <td>0</td>\n",
              "      <td>0</td>\n",
              "      <td>0</td>\n",
              "      <td>0</td>\n",
              "      <td>0</td>\n",
              "      <td>0</td>\n",
              "    </tr>\n",
              "    <tr>\n",
              "      <th>6834</th>\n",
              "      <td>0</td>\n",
              "      <td>1</td>\n",
              "      <td>0</td>\n",
              "      <td>0</td>\n",
              "      <td>0</td>\n",
              "      <td>0</td>\n",
              "      <td>0</td>\n",
              "      <td>0</td>\n",
              "      <td>0</td>\n",
              "      <td>1</td>\n",
              "      <td>0</td>\n",
              "    </tr>\n",
              "    <tr>\n",
              "      <th>6835</th>\n",
              "      <td>1</td>\n",
              "      <td>0</td>\n",
              "      <td>1</td>\n",
              "      <td>0</td>\n",
              "      <td>0</td>\n",
              "      <td>0</td>\n",
              "      <td>0</td>\n",
              "      <td>1</td>\n",
              "      <td>0</td>\n",
              "      <td>0</td>\n",
              "      <td>0</td>\n",
              "    </tr>\n",
              "    <tr>\n",
              "      <th>6836</th>\n",
              "      <td>0</td>\n",
              "      <td>0</td>\n",
              "      <td>0</td>\n",
              "      <td>0</td>\n",
              "      <td>0</td>\n",
              "      <td>0</td>\n",
              "      <td>0</td>\n",
              "      <td>0</td>\n",
              "      <td>0</td>\n",
              "      <td>1</td>\n",
              "      <td>0</td>\n",
              "    </tr>\n",
              "    <tr>\n",
              "      <th>6837</th>\n",
              "      <td>0</td>\n",
              "      <td>0</td>\n",
              "      <td>0</td>\n",
              "      <td>0</td>\n",
              "      <td>0</td>\n",
              "      <td>0</td>\n",
              "      <td>0</td>\n",
              "      <td>1</td>\n",
              "      <td>0</td>\n",
              "      <td>0</td>\n",
              "      <td>0</td>\n",
              "    </tr>\n",
              "  </tbody>\n",
              "</table>\n",
              "<p>6838 rows × 11 columns</p>\n",
              "</div>"
            ],
            "text/plain": [
              "      anger  anticipation  disgust  fear  ...  pessimism  sadness  surprise  trust\n",
              "0         0             1        0     0  ...          0        0         0      1\n",
              "1         0             0        0     0  ...          0        0         0      0\n",
              "2         1             0        1     0  ...          0        0         0      0\n",
              "3         0             0        0     0  ...          0        0         0      0\n",
              "4         1             0        1     0  ...          0        0         0      0\n",
              "...     ...           ...      ...   ...  ...        ...      ...       ...    ...\n",
              "6833      0             0        0     0  ...          0        0         0      0\n",
              "6834      0             1        0     0  ...          0        0         1      0\n",
              "6835      1             0        1     0  ...          1        0         0      0\n",
              "6836      0             0        0     0  ...          0        0         1      0\n",
              "6837      0             0        0     0  ...          1        0         0      0\n",
              "\n",
              "[6838 rows x 11 columns]"
            ]
          },
          "metadata": {},
          "execution_count": 170
        }
      ]
    },
    {
      "cell_type": "markdown",
      "metadata": {
        "id": "kmQcCjrjZdoA"
      },
      "source": [
        "# Building a Sequential Model including word embeddings \n",
        "\n",
        "Performing Word embeddings layer and add LSTM ( Long Term Short Memory) layers to our sequential deep learning model."
      ],
      "id": "kmQcCjrjZdoA"
    },
    {
      "cell_type": "code",
      "metadata": {
        "id": "LwrK4Ms1pAwq"
      },
      "source": [
        "from sklearn.model_selection import train_test_split\n",
        "\n",
        "X_train, X_test, y_train, y_test = train_test_split(X, y, test_size=0.20, random_state=42)"
      ],
      "id": "LwrK4Ms1pAwq",
      "execution_count": null,
      "outputs": []
    },
    {
      "cell_type": "code",
      "metadata": {
        "colab": {
          "base_uri": "https://localhost:8080/"
        },
        "id": "lTzhORUjzChb",
        "outputId": "4591e86c-4976-4466-933b-6760b4ce6f26"
      },
      "source": [
        "X_train.shape, y_train.shape"
      ],
      "id": "lTzhORUjzChb",
      "execution_count": null,
      "outputs": [
        {
          "output_type": "execute_result",
          "data": {
            "text/plain": [
              "((5470, 76), (5470, 11))"
            ]
          },
          "metadata": {},
          "execution_count": 172
        }
      ]
    },
    {
      "cell_type": "code",
      "metadata": {
        "id": "73FwbMSDnnST"
      },
      "source": [
        "from keras.models import Sequential\n",
        "from keras.layers.recurrent import LSTM, GRU\n",
        "from keras.layers.core import Dense, Activation, Dropout\n",
        "from keras.layers.embeddings import Embedding\n",
        "#from keras.layers.normalization import BatchNormalization\n",
        "#from keras.utils import np_utils\n",
        "from keras.layers import GlobalMaxPooling1D, Conv1D, MaxPooling1D, Flatten, Bidirectional, SpatialDropout1D\n",
        "from keras.callbacks import ModelCheckpoint"
      ],
      "id": "73FwbMSDnnST",
      "execution_count": null,
      "outputs": []
    },
    {
      "cell_type": "code",
      "metadata": {
        "id": "ojnNtUtTsp0L",
        "colab": {
          "base_uri": "https://localhost:8080/"
        },
        "outputId": "ca4006e2-7ed3-47c0-bd9b-59ace58aadde"
      },
      "source": [
        "np.random.seed(42)\n",
        "#max_words = 6838\n",
        "model2 = Sequential()\n",
        "model2.add(layers.Embedding(300,40, input_length=300))\n",
        "model2.add(layers.Bidirectional(layers.LSTM(55,dropout=0.2)))\n",
        "model2.add(layers.Dense(11,activation='sigmoid'))\n",
        "model2.compile(optimizer='rmsprop',loss='binary_crossentropy', metrics=['accuracy'])\n",
        "checkpoint2 = ModelCheckpoint(\"best_model2.hdf5\", monitor='val_accuracy', \n",
        "                              verbose=1,save_best_only=True, mode='auto',\n",
        "                              period=1,save_weights_only=False)\n",
        "\n",
        "history = model2.fit(X_train, y_train, batch_size = 32, epochs=5,validation_data=(X_test, y_test),callbacks=[checkpoint2])"
      ],
      "id": "ojnNtUtTsp0L",
      "execution_count": null,
      "outputs": [
        {
          "output_type": "stream",
          "name": "stdout",
          "text": [
            "WARNING:tensorflow:`period` argument is deprecated. Please use `save_freq` to specify the frequency in number of batches seen.\n",
            "Epoch 1/5\n",
            "WARNING:tensorflow:Model was constructed with shape (None, 300) for input KerasTensor(type_spec=TensorSpec(shape=(None, 300), dtype=tf.float32, name='embedding_46_input'), name='embedding_46_input', description=\"created by layer 'embedding_46_input'\"), but it was called on an input with incompatible shape (None, 76).\n",
            "WARNING:tensorflow:Model was constructed with shape (None, 300) for input KerasTensor(type_spec=TensorSpec(shape=(None, 300), dtype=tf.float32, name='embedding_46_input'), name='embedding_46_input', description=\"created by layer 'embedding_46_input'\"), but it was called on an input with incompatible shape (None, 76).\n",
            "171/171 [==============================] - ETA: 0s - loss: 0.4737 - accuracy: 0.2673WARNING:tensorflow:Model was constructed with shape (None, 300) for input KerasTensor(type_spec=TensorSpec(shape=(None, 300), dtype=tf.float32, name='embedding_46_input'), name='embedding_46_input', description=\"created by layer 'embedding_46_input'\"), but it was called on an input with incompatible shape (None, 76).\n",
            "171/171 [==============================] - 11s 42ms/step - loss: 0.4737 - accuracy: 0.2673 - val_loss: 0.4636 - val_accuracy: 0.4386\n",
            "\n",
            "Epoch 00001: val_accuracy improved from -inf to 0.43860, saving model to best_model2.hdf5\n",
            "Epoch 2/5\n",
            "171/171 [==============================] - 6s 37ms/step - loss: 0.4273 - accuracy: 0.4296 - val_loss: 0.4263 - val_accuracy: 0.4401\n",
            "\n",
            "Epoch 00002: val_accuracy improved from 0.43860 to 0.44006, saving model to best_model2.hdf5\n",
            "Epoch 3/5\n",
            "171/171 [==============================] - 6s 37ms/step - loss: 0.4048 - accuracy: 0.4360 - val_loss: 0.4163 - val_accuracy: 0.2602\n",
            "\n",
            "Epoch 00003: val_accuracy did not improve from 0.44006\n",
            "Epoch 4/5\n",
            "171/171 [==============================] - 6s 37ms/step - loss: 0.3923 - accuracy: 0.4170 - val_loss: 0.4067 - val_accuracy: 0.5102\n",
            "\n",
            "Epoch 00004: val_accuracy improved from 0.44006 to 0.51023, saving model to best_model2.hdf5\n",
            "Epoch 5/5\n",
            "171/171 [==============================] - 6s 37ms/step - loss: 0.3805 - accuracy: 0.4547 - val_loss: 0.3992 - val_accuracy: 0.4781\n",
            "\n",
            "Epoch 00005: val_accuracy did not improve from 0.51023\n"
          ]
        }
      ]
    },
    {
      "cell_type": "markdown",
      "metadata": {
        "id": "rDKKRO-v3Z-m"
      },
      "source": [
        "We get an accuracy of 51%\n"
      ],
      "id": "rDKKRO-v3Z-m"
    },
    {
      "cell_type": "code",
      "metadata": {
        "id": "QhNaYnWy44Fp"
      },
      "source": [
        "y_pred = model2.predict(X_test)"
      ],
      "id": "QhNaYnWy44Fp",
      "execution_count": null,
      "outputs": []
    },
    {
      "cell_type": "code",
      "metadata": {
        "colab": {
          "base_uri": "https://localhost:8080/"
        },
        "id": "puyogsOY7ClA",
        "outputId": "118f35e9-8e73-4c16-f031-e7fb04fe3be5"
      },
      "source": [
        "y_pred[0][0]"
      ],
      "id": "puyogsOY7ClA",
      "execution_count": null,
      "outputs": [
        {
          "output_type": "execute_result",
          "data": {
            "text/plain": [
              "0.46753144"
            ]
          },
          "metadata": {},
          "execution_count": 211
        }
      ]
    },
    {
      "cell_type": "code",
      "metadata": {
        "colab": {
          "base_uri": "https://localhost:8080/"
        },
        "id": "3fFRMZOl5Z92",
        "outputId": "70e2b407-e09c-46cd-80d3-22160c926fb5"
      },
      "source": [
        ""
      ],
      "id": "3fFRMZOl5Z92",
      "execution_count": null,
      "outputs": [
        {
          "output_type": "execute_result",
          "data": {
            "text/plain": [
              "array([[0., 0., 0., ..., 0., 0., 0.],\n",
              "       [0., 0., 0., ..., 0., 0., 0.],\n",
              "       [0., 0., 0., ..., 0., 0., 0.],\n",
              "       ...,\n",
              "       [0., 0., 0., ..., 0., 0., 0.],\n",
              "       [0., 0., 0., ..., 0., 0., 0.],\n",
              "       [0., 0., 0., ..., 0., 0., 0.]], dtype=float32)"
            ]
          },
          "metadata": {},
          "execution_count": 219
        }
      ]
    },
    {
      "cell_type": "code",
      "metadata": {
        "colab": {
          "base_uri": "https://localhost:8080/"
        },
        "id": "D1876KQP3gF_",
        "outputId": "a6888891-1720-45ef-bb42-ad3747a028d0"
      },
      "source": [
        "from sklearn.metrics import jaccard_score\n",
        "score = jaccard_score( y_test, y_pred, average='weighted')\n",
        "score"
      ],
      "id": "D1876KQP3gF_",
      "execution_count": null,
      "outputs": [
        {
          "output_type": "execute_result",
          "data": {
            "text/plain": [
              "0.0"
            ]
          },
          "metadata": {},
          "execution_count": 220
        }
      ]
    },
    {
      "cell_type": "code",
      "metadata": {
        "colab": {
          "base_uri": "https://localhost:8080/"
        },
        "id": "5l1jetMMkL2J",
        "outputId": "a668e05e-19ed-421a-afa9-aede503f09aa"
      },
      "source": [
        "np.random.seed(42)\n",
        "#max_words = 6838\n",
        "model2 = Sequential()\n",
        "model2.add(Embedding(vocab_size,600, input_length= 76))\n",
        "model2.add(Bidirectional(LSTM(50,dropout=0.3)))\n",
        "#model2.add(Bidirectional(LSTM(55,dropout=0.2)))\n",
        "model2.add(Flatten())\n",
        "model2.add(Dense(150, activation='relu'))\n",
        "model2.add(Dense(11,activation='sigmoid'))\n",
        "model2.compile(optimizer='rmsprop',loss='binary_crossentropy', metrics=['accuracy'])\n",
        "checkpoint2 = ModelCheckpoint(\"best_model2.hdf5\", monitor='val_accuracy', \n",
        "                              verbose=1,save_best_only=True, mode='auto',\n",
        "                              period=1,save_weights_only=False)\n"
      ],
      "id": "5l1jetMMkL2J",
      "execution_count": null,
      "outputs": [
        {
          "output_type": "stream",
          "name": "stdout",
          "text": [
            "WARNING:tensorflow:`period` argument is deprecated. Please use `save_freq` to specify the frequency in number of batches seen.\n"
          ]
        }
      ]
    },
    {
      "cell_type": "code",
      "metadata": {
        "colab": {
          "base_uri": "https://localhost:8080/"
        },
        "id": "YEur77UukLvj",
        "outputId": "929ae82d-c282-4f3e-e5bb-6e24acd7dcfd"
      },
      "source": [
        "model2.summary()"
      ],
      "id": "YEur77UukLvj",
      "execution_count": null,
      "outputs": [
        {
          "output_type": "stream",
          "name": "stdout",
          "text": [
            "Model: \"sequential_30\"\n",
            "_________________________________________________________________\n",
            "Layer (type)                 Output Shape              Param #   \n",
            "=================================================================\n",
            "embedding_47 (Embedding)     (None, 76, 600)           6559800   \n",
            "_________________________________________________________________\n",
            "bidirectional_9 (Bidirection (None, 100)               260400    \n",
            "_________________________________________________________________\n",
            "flatten (Flatten)            (None, 100)               0         \n",
            "_________________________________________________________________\n",
            "dense_77 (Dense)             (None, 150)               15150     \n",
            "_________________________________________________________________\n",
            "dense_78 (Dense)             (None, 11)                1661      \n",
            "=================================================================\n",
            "Total params: 6,837,011\n",
            "Trainable params: 6,837,011\n",
            "Non-trainable params: 0\n",
            "_________________________________________________________________\n"
          ]
        }
      ]
    },
    {
      "cell_type": "markdown",
      "metadata": {
        "id": "vMltwkXjLQew"
      },
      "source": [
        "We get an accuracy score of 49%"
      ],
      "id": "vMltwkXjLQew"
    },
    {
      "cell_type": "code",
      "metadata": {
        "colab": {
          "base_uri": "https://localhost:8080/"
        },
        "id": "XF2psL9UAGLc",
        "outputId": "b1033742-7ce1-4fae-89b8-e288331eb746"
      },
      "source": [
        "model2.save('/content/drive/MyDrive/sentiment-analysis')"
      ],
      "id": "XF2psL9UAGLc",
      "execution_count": null,
      "outputs": [
        {
          "output_type": "stream",
          "text": [
            "WARNING:absl:Found untraced functions such as lstm_cell_58_layer_call_fn, lstm_cell_58_layer_call_and_return_conditional_losses, lstm_cell_59_layer_call_fn, lstm_cell_59_layer_call_and_return_conditional_losses, lstm_cell_58_layer_call_fn while saving (showing 5 of 10). These functions will not be directly callable after loading.\n"
          ],
          "name": "stderr"
        },
        {
          "output_type": "stream",
          "text": [
            "INFO:tensorflow:Assets written to: /content/drive/MyDrive/sentiment-analysis/assets\n"
          ],
          "name": "stdout"
        },
        {
          "output_type": "stream",
          "text": [
            "INFO:tensorflow:Assets written to: /content/drive/MyDrive/sentiment-analysis/assets\n"
          ],
          "name": "stderr"
        }
      ]
    },
    {
      "cell_type": "markdown",
      "metadata": {
        "id": "_rxp_ww8GQF3"
      },
      "source": [
        "# Super-Data-Set\n",
        "(Using more data to train the model)"
      ],
      "id": "_rxp_ww8GQF3"
    },
    {
      "cell_type": "code",
      "metadata": {
        "id": "DlHVzwsFBIPY"
      },
      "source": [
        "df_gold = pd.read_csv(\"/content/drive/MyDrive/sentiment-analysis/data-set/E-c/2018-E-c-En-test-gold.txt\", sep='\\t')"
      ],
      "id": "DlHVzwsFBIPY",
      "execution_count": null,
      "outputs": []
    },
    {
      "cell_type": "code",
      "metadata": {
        "colab": {
          "base_uri": "https://localhost:8080/",
          "height": 374
        },
        "id": "9IFK0df5FFjN",
        "outputId": "a4279b6b-7417-42a9-ebe2-d57f710fb534"
      },
      "source": [
        "super_df = pd.concat([df_c, df_val, df_gold], ignore_index=True)\n",
        "super_df.head()"
      ],
      "id": "9IFK0df5FFjN",
      "execution_count": null,
      "outputs": [
        {
          "output_type": "execute_result",
          "data": {
            "text/html": [
              "<div>\n",
              "<style scoped>\n",
              "    .dataframe tbody tr th:only-of-type {\n",
              "        vertical-align: middle;\n",
              "    }\n",
              "\n",
              "    .dataframe tbody tr th {\n",
              "        vertical-align: top;\n",
              "    }\n",
              "\n",
              "    .dataframe thead th {\n",
              "        text-align: right;\n",
              "    }\n",
              "</style>\n",
              "<table border=\"1\" class=\"dataframe\">\n",
              "  <thead>\n",
              "    <tr style=\"text-align: right;\">\n",
              "      <th></th>\n",
              "      <th>ID</th>\n",
              "      <th>Tweet</th>\n",
              "      <th>anger</th>\n",
              "      <th>anticipation</th>\n",
              "      <th>disgust</th>\n",
              "      <th>fear</th>\n",
              "      <th>joy</th>\n",
              "      <th>love</th>\n",
              "      <th>optimism</th>\n",
              "      <th>pessimism</th>\n",
              "      <th>sadness</th>\n",
              "      <th>surprise</th>\n",
              "      <th>trust</th>\n",
              "    </tr>\n",
              "  </thead>\n",
              "  <tbody>\n",
              "    <tr>\n",
              "      <th>0</th>\n",
              "      <td>2017-En-21441</td>\n",
              "      <td>“Worry is a down payment on a problem you may ...</td>\n",
              "      <td>0</td>\n",
              "      <td>1</td>\n",
              "      <td>0</td>\n",
              "      <td>0</td>\n",
              "      <td>0</td>\n",
              "      <td>0</td>\n",
              "      <td>1</td>\n",
              "      <td>0</td>\n",
              "      <td>0</td>\n",
              "      <td>0</td>\n",
              "      <td>1</td>\n",
              "    </tr>\n",
              "    <tr>\n",
              "      <th>1</th>\n",
              "      <td>2017-En-31535</td>\n",
              "      <td>Whatever you decide to do make sure it makes y...</td>\n",
              "      <td>0</td>\n",
              "      <td>0</td>\n",
              "      <td>0</td>\n",
              "      <td>0</td>\n",
              "      <td>1</td>\n",
              "      <td>1</td>\n",
              "      <td>1</td>\n",
              "      <td>0</td>\n",
              "      <td>0</td>\n",
              "      <td>0</td>\n",
              "      <td>0</td>\n",
              "    </tr>\n",
              "    <tr>\n",
              "      <th>2</th>\n",
              "      <td>2017-En-21068</td>\n",
              "      <td>@Max_Kellerman  it also helps that the majorit...</td>\n",
              "      <td>1</td>\n",
              "      <td>0</td>\n",
              "      <td>1</td>\n",
              "      <td>0</td>\n",
              "      <td>1</td>\n",
              "      <td>0</td>\n",
              "      <td>1</td>\n",
              "      <td>0</td>\n",
              "      <td>0</td>\n",
              "      <td>0</td>\n",
              "      <td>0</td>\n",
              "    </tr>\n",
              "    <tr>\n",
              "      <th>3</th>\n",
              "      <td>2017-En-31436</td>\n",
              "      <td>Accept the challenges so that you can literall...</td>\n",
              "      <td>0</td>\n",
              "      <td>0</td>\n",
              "      <td>0</td>\n",
              "      <td>0</td>\n",
              "      <td>1</td>\n",
              "      <td>0</td>\n",
              "      <td>1</td>\n",
              "      <td>0</td>\n",
              "      <td>0</td>\n",
              "      <td>0</td>\n",
              "      <td>0</td>\n",
              "    </tr>\n",
              "    <tr>\n",
              "      <th>4</th>\n",
              "      <td>2017-En-22195</td>\n",
              "      <td>My roommate: it's okay that we can't spell bec...</td>\n",
              "      <td>1</td>\n",
              "      <td>0</td>\n",
              "      <td>1</td>\n",
              "      <td>0</td>\n",
              "      <td>0</td>\n",
              "      <td>0</td>\n",
              "      <td>0</td>\n",
              "      <td>0</td>\n",
              "      <td>0</td>\n",
              "      <td>0</td>\n",
              "      <td>0</td>\n",
              "    </tr>\n",
              "  </tbody>\n",
              "</table>\n",
              "</div>"
            ],
            "text/plain": [
              "              ID  ... trust\n",
              "0  2017-En-21441  ...     1\n",
              "1  2017-En-31535  ...     0\n",
              "2  2017-En-21068  ...     0\n",
              "3  2017-En-31436  ...     0\n",
              "4  2017-En-22195  ...     0\n",
              "\n",
              "[5 rows x 13 columns]"
            ]
          },
          "metadata": {},
          "execution_count": 88
        }
      ]
    },
    {
      "cell_type": "markdown",
      "metadata": {
        "id": "BD9NdJ2UHlnM"
      },
      "source": [
        "## Visualizing the tweets per emotion on the super data set"
      ],
      "id": "BD9NdJ2UHlnM"
    },
    {
      "cell_type": "code",
      "metadata": {
        "colab": {
          "base_uri": "https://localhost:8080/",
          "height": 458
        },
        "id": "_JFw96ejFZhI",
        "outputId": "48a9680a-91d3-422c-aae2-fff0db42414f"
      },
      "source": [
        "def visialise_tweets(df):\n",
        "  emotions = df.columns[2:].tolist()\n",
        "  count = 0\n",
        "  for ind in df.index:\n",
        "    flag = True\n",
        "    for emotion in emotions:\n",
        "      \n",
        "      if df[emotion][ind] == 1:\n",
        "        flag = False\n",
        "        break\n",
        "    if flag:\n",
        "      count= count+1\n",
        "  emotion_dict = {}\n",
        "  for emotion in emotions:\n",
        "    emotion_dict[emotion] = df[df[emotion]==1][emotion].count()\n",
        "\n",
        "  emotion_dict['Neutral'] = count\n",
        "  em_df_t = pd.DataFrame(data=emotion_dict, index=['Values'])\n",
        "  em_df = em_df_t.T\n",
        "  em_df = em_df.sort_values('Values', ascending= False)\n",
        "  list_col = em_df.T.columns.tolist()\n",
        "  h = np.array(em_df.values)\n",
        "  h = h.flatten()\n",
        "  plt.figure(figsize=(14,7))\n",
        "  plt.xlabel('Emotions')\n",
        "  plt.ylabel('No. of Tweets')\n",
        "  plt.bar(x=list_col, height=h, color=['sienna','red', 'gold', \n",
        "                    'slateblue', 'forestgreen' ,'royalblue', 'seagreen', 'purple', 'pink','cyan','teal']);\n",
        "  plt.title('No. of Tweeets per Emotion');\n",
        "\n",
        "visialise_tweets(super_df)\n"
      ],
      "id": "_JFw96ejFZhI",
      "execution_count": null,
      "outputs": [
        {
          "output_type": "display_data",
          "data": {
            "image/png": "[encoded data removed]",
            "text/plain": [
              "<Figure size 1008x504 with 1 Axes>"
            ]
          },
          "metadata": {
            "needs_background": "light"
          }
        }
      ]
    },
    {
      "cell_type": "code",
      "metadata": {
        "colab": {
          "base_uri": "https://localhost:8080/"
        },
        "id": "GeWZcUfmKFTR",
        "outputId": "0b2b4dd6-76b6-49c2-e0d6-2a25b414c877"
      },
      "source": [
        "clean_super_data = dataCleaning(super_df)\n",
        "clean_super_data.Tweet"
      ],
      "id": "GeWZcUfmKFTR",
      "execution_count": null,
      "outputs": [
        {
          "output_type": "execute_result",
          "data": {
            "text/plain": [
              "0        worry payment problem may never joyce meyer mo...\n",
              "1                     whatever decide make sure make happy\n",
              "2        also help majority nfl coaching inept bill obr...\n",
              "3        accept challenge literally even feel exhilarat...\n",
              "4        roommate okay cannot spell autocorrect terribl...\n",
              "                               ...                        \n",
              "10978    shaft abrasion panty merely shifted side theol...\n",
              "10979    heard remothered indie horror game writing ama...\n",
              "10980    fake outrage yall need stop rolling_on_the_flo...\n",
              "10981    would ever grateful could record garden forgiv...\n",
              "10982    wholesome drunk sends people meme compliment snap\n",
              "Name: Tweet, Length: 10983, dtype: object"
            ]
          },
          "metadata": {},
          "execution_count": 158
        }
      ]
    },
    {
      "cell_type": "code",
      "metadata": {
        "id": "UH7tKbTOGpng"
      },
      "source": [
        "X, vocab_size, tokenizer = encoding(clean_super_data)"
      ],
      "id": "UH7tKbTOGpng",
      "execution_count": null,
      "outputs": []
    },
    {
      "cell_type": "code",
      "metadata": {
        "colab": {
          "base_uri": "https://localhost:8080/"
        },
        "id": "L4SWcuPPqQXf",
        "outputId": "695cbff1-f439-4a49-ff5e-e76836f8ece5"
      },
      "source": [
        "X.shape"
      ],
      "id": "L4SWcuPPqQXf",
      "execution_count": null,
      "outputs": [
        {
          "output_type": "execute_result",
          "data": {
            "text/plain": [
              "(10983, 76)"
            ]
          },
          "metadata": {},
          "execution_count": 160
        }
      ]
    },
    {
      "cell_type": "code",
      "metadata": {
        "colab": {
          "base_uri": "https://localhost:8080/",
          "height": 419
        },
        "id": "jCoSF889JWGY",
        "outputId": "b51256cf-3a1a-4599-e6e2-6ea02d93018b"
      },
      "source": [
        "y = super_df[emotions]\n",
        "y"
      ],
      "id": "jCoSF889JWGY",
      "execution_count": null,
      "outputs": [
        {
          "output_type": "execute_result",
          "data": {
            "text/html": [
              "<div>\n",
              "<style scoped>\n",
              "    .dataframe tbody tr th:only-of-type {\n",
              "        vertical-align: middle;\n",
              "    }\n",
              "\n",
              "    .dataframe tbody tr th {\n",
              "        vertical-align: top;\n",
              "    }\n",
              "\n",
              "    .dataframe thead th {\n",
              "        text-align: right;\n",
              "    }\n",
              "</style>\n",
              "<table border=\"1\" class=\"dataframe\">\n",
              "  <thead>\n",
              "    <tr style=\"text-align: right;\">\n",
              "      <th></th>\n",
              "      <th>anger</th>\n",
              "      <th>anticipation</th>\n",
              "      <th>disgust</th>\n",
              "      <th>fear</th>\n",
              "      <th>joy</th>\n",
              "      <th>love</th>\n",
              "      <th>optimism</th>\n",
              "      <th>pessimism</th>\n",
              "      <th>sadness</th>\n",
              "      <th>surprise</th>\n",
              "      <th>trust</th>\n",
              "    </tr>\n",
              "  </thead>\n",
              "  <tbody>\n",
              "    <tr>\n",
              "      <th>0</th>\n",
              "      <td>0</td>\n",
              "      <td>1</td>\n",
              "      <td>0</td>\n",
              "      <td>0</td>\n",
              "      <td>0</td>\n",
              "      <td>0</td>\n",
              "      <td>1</td>\n",
              "      <td>0</td>\n",
              "      <td>0</td>\n",
              "      <td>0</td>\n",
              "      <td>1</td>\n",
              "    </tr>\n",
              "    <tr>\n",
              "      <th>1</th>\n",
              "      <td>0</td>\n",
              "      <td>0</td>\n",
              "      <td>0</td>\n",
              "      <td>0</td>\n",
              "      <td>1</td>\n",
              "      <td>1</td>\n",
              "      <td>1</td>\n",
              "      <td>0</td>\n",
              "      <td>0</td>\n",
              "      <td>0</td>\n",
              "      <td>0</td>\n",
              "    </tr>\n",
              "    <tr>\n",
              "      <th>2</th>\n",
              "      <td>1</td>\n",
              "      <td>0</td>\n",
              "      <td>1</td>\n",
              "      <td>0</td>\n",
              "      <td>1</td>\n",
              "      <td>0</td>\n",
              "      <td>1</td>\n",
              "      <td>0</td>\n",
              "      <td>0</td>\n",
              "      <td>0</td>\n",
              "      <td>0</td>\n",
              "    </tr>\n",
              "    <tr>\n",
              "      <th>3</th>\n",
              "      <td>0</td>\n",
              "      <td>0</td>\n",
              "      <td>0</td>\n",
              "      <td>0</td>\n",
              "      <td>1</td>\n",
              "      <td>0</td>\n",
              "      <td>1</td>\n",
              "      <td>0</td>\n",
              "      <td>0</td>\n",
              "      <td>0</td>\n",
              "      <td>0</td>\n",
              "    </tr>\n",
              "    <tr>\n",
              "      <th>4</th>\n",
              "      <td>1</td>\n",
              "      <td>0</td>\n",
              "      <td>1</td>\n",
              "      <td>0</td>\n",
              "      <td>0</td>\n",
              "      <td>0</td>\n",
              "      <td>0</td>\n",
              "      <td>0</td>\n",
              "      <td>0</td>\n",
              "      <td>0</td>\n",
              "      <td>0</td>\n",
              "    </tr>\n",
              "    <tr>\n",
              "      <th>...</th>\n",
              "      <td>...</td>\n",
              "      <td>...</td>\n",
              "      <td>...</td>\n",
              "      <td>...</td>\n",
              "      <td>...</td>\n",
              "      <td>...</td>\n",
              "      <td>...</td>\n",
              "      <td>...</td>\n",
              "      <td>...</td>\n",
              "      <td>...</td>\n",
              "      <td>...</td>\n",
              "    </tr>\n",
              "    <tr>\n",
              "      <th>10978</th>\n",
              "      <td>1</td>\n",
              "      <td>0</td>\n",
              "      <td>0</td>\n",
              "      <td>0</td>\n",
              "      <td>0</td>\n",
              "      <td>0</td>\n",
              "      <td>0</td>\n",
              "      <td>1</td>\n",
              "      <td>0</td>\n",
              "      <td>0</td>\n",
              "      <td>0</td>\n",
              "    </tr>\n",
              "    <tr>\n",
              "      <th>10979</th>\n",
              "      <td>0</td>\n",
              "      <td>1</td>\n",
              "      <td>0</td>\n",
              "      <td>0</td>\n",
              "      <td>0</td>\n",
              "      <td>0</td>\n",
              "      <td>0</td>\n",
              "      <td>1</td>\n",
              "      <td>0</td>\n",
              "      <td>0</td>\n",
              "      <td>0</td>\n",
              "    </tr>\n",
              "    <tr>\n",
              "      <th>10980</th>\n",
              "      <td>1</td>\n",
              "      <td>0</td>\n",
              "      <td>1</td>\n",
              "      <td>0</td>\n",
              "      <td>0</td>\n",
              "      <td>0</td>\n",
              "      <td>0</td>\n",
              "      <td>0</td>\n",
              "      <td>0</td>\n",
              "      <td>0</td>\n",
              "      <td>0</td>\n",
              "    </tr>\n",
              "    <tr>\n",
              "      <th>10981</th>\n",
              "      <td>0</td>\n",
              "      <td>0</td>\n",
              "      <td>0</td>\n",
              "      <td>0</td>\n",
              "      <td>1</td>\n",
              "      <td>0</td>\n",
              "      <td>0</td>\n",
              "      <td>0</td>\n",
              "      <td>0</td>\n",
              "      <td>0</td>\n",
              "      <td>0</td>\n",
              "    </tr>\n",
              "    <tr>\n",
              "      <th>10982</th>\n",
              "      <td>0</td>\n",
              "      <td>0</td>\n",
              "      <td>0</td>\n",
              "      <td>0</td>\n",
              "      <td>0</td>\n",
              "      <td>0</td>\n",
              "      <td>0</td>\n",
              "      <td>0</td>\n",
              "      <td>0</td>\n",
              "      <td>0</td>\n",
              "      <td>0</td>\n",
              "    </tr>\n",
              "  </tbody>\n",
              "</table>\n",
              "<p>10983 rows × 11 columns</p>\n",
              "</div>"
            ],
            "text/plain": [
              "       anger  anticipation  disgust  fear  ...  pessimism  sadness  surprise  trust\n",
              "0          0             1        0     0  ...          0        0         0      1\n",
              "1          0             0        0     0  ...          0        0         0      0\n",
              "2          1             0        1     0  ...          0        0         0      0\n",
              "3          0             0        0     0  ...          0        0         0      0\n",
              "4          1             0        1     0  ...          0        0         0      0\n",
              "...      ...           ...      ...   ...  ...        ...      ...       ...    ...\n",
              "10978      1             0        0     0  ...          1        0         0      0\n",
              "10979      0             1        0     0  ...          1        0         0      0\n",
              "10980      1             0        1     0  ...          0        0         0      0\n",
              "10981      0             0        0     0  ...          0        0         0      0\n",
              "10982      0             0        0     0  ...          0        0         0      0\n",
              "\n",
              "[10983 rows x 11 columns]"
            ]
          },
          "metadata": {},
          "execution_count": 110
        }
      ]
    },
    {
      "cell_type": "markdown",
      "metadata": {
        "id": "7XO83CFyHwSl"
      },
      "source": [
        "## Training the model on super-data set"
      ],
      "id": "7XO83CFyHwSl"
    },
    {
      "cell_type": "code",
      "metadata": {
        "id": "fQPolue6eIF5"
      },
      "source": [
        "from tensorflow.keras.models import Sequential\n",
        "from tensorflow.keras.layers import Dense\n",
        "from tensorflow.keras.losses import BinaryCrossentropy\n",
        "from tensorflow.keras.callbacks import ModelCheckpoint\n",
        "from tensorflow.keras import layers\n",
        "from tensorflow.keras import Input\n",
        "from tensorflow.keras import Model\n",
        "from tensorflow.keras.callbacks import EarlyStopping"
      ],
      "id": "fQPolue6eIF5",
      "execution_count": null,
      "outputs": []
    },
    {
      "cell_type": "code",
      "metadata": {
        "id": "nisiGj1aJWrp"
      },
      "source": [
        "from sklearn.model_selection import train_test_split\n",
        "X_train, X_test, y_train, y_test = train_test_split(X, y, test_size=0.20, random_state=42)\n",
        "\n",
        "      "
      ],
      "id": "nisiGj1aJWrp",
      "execution_count": null,
      "outputs": []
    },
    {
      "cell_type": "code",
      "metadata": {
        "id": "WaaGXQqAN6P3",
        "colab": {
          "base_uri": "https://localhost:8080/"
        },
        "outputId": "6fa28e85-963b-4e28-b4ee-0000d7925fe2"
      },
      "source": [
        "np.random.seed(42)\n",
        "model3 = Sequential()\n",
        "model3.add(layers.Embedding(vocab_size,40,input_length=76 )) #The embedding layer\n",
        "model3.add(layers.LSTM(15,dropout=0.3)) #Our LSTM layer\n",
        "model3.add(layers.Dense(11, activation='sigmoid'))\n",
        "\n",
        "\n",
        "model3.compile(optimizer='rmsprop',loss='binary_crossentropy', metrics=['accuracy'])\n",
        "\n",
        "checkpoint1 = ModelCheckpoint(\"best_model1.hdf5\", monitor='val_accuracy',\n",
        "                              verbose=1,save_best_only=True, mode='auto', \n",
        "                              period=1,save_weights_only=False)\n",
        "\n",
        "model3.summary()"
      ],
      "id": "WaaGXQqAN6P3",
      "execution_count": null,
      "outputs": [
        {
          "output_type": "stream",
          "name": "stdout",
          "text": [
            "WARNING:tensorflow:`period` argument is deprecated. Please use `save_freq` to specify the frequency in number of batches seen.\n",
            "Model: \"sequential_12\"\n",
            "_________________________________________________________________\n",
            "Layer (type)                 Output Shape              Param #   \n",
            "=================================================================\n",
            "embedding_29 (Embedding)     (None, 76, 40)            624600    \n",
            "_________________________________________________________________\n",
            "lstm_23 (LSTM)               (None, 15)                3360      \n",
            "_________________________________________________________________\n",
            "dense_58 (Dense)             (None, 11)                176       \n",
            "=================================================================\n",
            "Total params: 628,136\n",
            "Trainable params: 628,136\n",
            "Non-trainable params: 0\n",
            "_________________________________________________________________\n"
          ]
        }
      ]
    },
    {
      "cell_type": "code",
      "metadata": {
        "colab": {
          "base_uri": "https://localhost:8080/"
        },
        "id": "hWVYYEYwLvdE",
        "outputId": "bd619dbd-00f9-4b37-fe62-33b0d4f55575"
      },
      "source": [
        "history = model3.fit(X_train, y_train, epochs=25,validation_data=(X_test, y_test),callbacks=[checkpoint1])"
      ],
      "id": "hWVYYEYwLvdE",
      "execution_count": null,
      "outputs": [
        {
          "output_type": "stream",
          "name": "stdout",
          "text": [
            "Epoch 1/25\n",
            "275/275 [==============================] - 5s 18ms/step - loss: 0.3778 - accuracy: 0.4832 - val_loss: 0.3865 - val_accuracy: 0.4524\n",
            "\n",
            "Epoch 00001: val_accuracy did not improve from 0.52025\n",
            "Epoch 2/25\n",
            "275/275 [==============================] - 5s 18ms/step - loss: 0.3757 - accuracy: 0.4811 - val_loss: 0.3862 - val_accuracy: 0.4620\n",
            "\n",
            "Epoch 00002: val_accuracy did not improve from 0.52025\n",
            "Epoch 3/25\n",
            "275/275 [==============================] - 5s 18ms/step - loss: 0.3729 - accuracy: 0.4721 - val_loss: 0.3834 - val_accuracy: 0.4684\n",
            "\n",
            "Epoch 00003: val_accuracy did not improve from 0.52025\n",
            "Epoch 4/25\n",
            "275/275 [==============================] - 5s 19ms/step - loss: 0.3713 - accuracy: 0.4759 - val_loss: 0.3818 - val_accuracy: 0.5075\n",
            "\n",
            "Epoch 00004: val_accuracy did not improve from 0.52025\n",
            "Epoch 5/25\n",
            "275/275 [==============================] - 5s 17ms/step - loss: 0.3694 - accuracy: 0.4829 - val_loss: 0.3800 - val_accuracy: 0.4324\n",
            "\n",
            "Epoch 00005: val_accuracy did not improve from 0.52025\n",
            "Epoch 6/25\n",
            "275/275 [==============================] - 5s 18ms/step - loss: 0.3683 - accuracy: 0.4605 - val_loss: 0.3794 - val_accuracy: 0.4406\n",
            "\n",
            "Epoch 00006: val_accuracy did not improve from 0.52025\n",
            "Epoch 7/25\n",
            "275/275 [==============================] - 5s 18ms/step - loss: 0.3662 - accuracy: 0.4696 - val_loss: 0.3798 - val_accuracy: 0.4492\n",
            "\n",
            "Epoch 00007: val_accuracy did not improve from 0.52025\n",
            "Epoch 8/25\n",
            "275/275 [==============================] - 5s 17ms/step - loss: 0.3654 - accuracy: 0.4673 - val_loss: 0.3807 - val_accuracy: 0.4401\n",
            "\n",
            "Epoch 00008: val_accuracy did not improve from 0.52025\n",
            "Epoch 9/25\n",
            "275/275 [==============================] - 5s 18ms/step - loss: 0.3643 - accuracy: 0.4588 - val_loss: 0.3775 - val_accuracy: 0.4411\n",
            "\n",
            "Epoch 00009: val_accuracy did not improve from 0.52025\n",
            "Epoch 10/25\n",
            "275/275 [==============================] - 5s 18ms/step - loss: 0.3633 - accuracy: 0.4560 - val_loss: 0.3780 - val_accuracy: 0.4520\n",
            "\n",
            "Epoch 00010: val_accuracy did not improve from 0.52025\n",
            "Epoch 11/25\n",
            "275/275 [==============================] - 5s 18ms/step - loss: 0.3630 - accuracy: 0.4581 - val_loss: 0.3781 - val_accuracy: 0.4197\n",
            "\n",
            "Epoch 00011: val_accuracy did not improve from 0.52025\n",
            "Epoch 12/25\n",
            "275/275 [==============================] - 5s 18ms/step - loss: 0.3623 - accuracy: 0.4501 - val_loss: 0.3795 - val_accuracy: 0.4579\n",
            "\n",
            "Epoch 00012: val_accuracy did not improve from 0.52025\n",
            "Epoch 13/25\n",
            "275/275 [==============================] - 5s 18ms/step - loss: 0.3622 - accuracy: 0.4578 - val_loss: 0.3773 - val_accuracy: 0.4324\n",
            "\n",
            "Epoch 00013: val_accuracy did not improve from 0.52025\n",
            "Epoch 14/25\n",
            "275/275 [==============================] - 5s 18ms/step - loss: 0.3606 - accuracy: 0.4541 - val_loss: 0.3779 - val_accuracy: 0.4370\n",
            "\n",
            "Epoch 00014: val_accuracy did not improve from 0.52025\n",
            "Epoch 15/25\n",
            "275/275 [==============================] - 5s 18ms/step - loss: 0.3605 - accuracy: 0.4542 - val_loss: 0.3767 - val_accuracy: 0.4424\n",
            "\n",
            "Epoch 00015: val_accuracy did not improve from 0.52025\n",
            "Epoch 16/25\n",
            "275/275 [==============================] - 5s 18ms/step - loss: 0.3598 - accuracy: 0.4554 - val_loss: 0.3769 - val_accuracy: 0.4438\n",
            "\n",
            "Epoch 00016: val_accuracy did not improve from 0.52025\n",
            "Epoch 17/25\n",
            "275/275 [==============================] - 5s 18ms/step - loss: 0.3598 - accuracy: 0.4540 - val_loss: 0.3780 - val_accuracy: 0.4279\n",
            "\n",
            "Epoch 00017: val_accuracy did not improve from 0.52025\n",
            "Epoch 18/25\n",
            "275/275 [==============================] - 5s 18ms/step - loss: 0.3586 - accuracy: 0.4563 - val_loss: 0.3779 - val_accuracy: 0.4406\n",
            "\n",
            "Epoch 00018: val_accuracy did not improve from 0.52025\n",
            "Epoch 19/25\n",
            "275/275 [==============================] - 5s 18ms/step - loss: 0.3582 - accuracy: 0.4567 - val_loss: 0.3787 - val_accuracy: 0.4338\n",
            "\n",
            "Epoch 00019: val_accuracy did not improve from 0.52025\n",
            "Epoch 20/25\n",
            "275/275 [==============================] - 5s 18ms/step - loss: 0.3582 - accuracy: 0.4516 - val_loss: 0.3773 - val_accuracy: 0.4333\n",
            "\n",
            "Epoch 00020: val_accuracy did not improve from 0.52025\n",
            "Epoch 21/25\n",
            "275/275 [==============================] - 5s 18ms/step - loss: 0.3571 - accuracy: 0.4539 - val_loss: 0.3775 - val_accuracy: 0.4265\n",
            "\n",
            "Epoch 00021: val_accuracy did not improve from 0.52025\n",
            "Epoch 22/25\n",
            "275/275 [==============================] - 5s 18ms/step - loss: 0.3570 - accuracy: 0.4486 - val_loss: 0.3773 - val_accuracy: 0.4347\n",
            "\n",
            "Epoch 00022: val_accuracy did not improve from 0.52025\n",
            "Epoch 23/25\n",
            "275/275 [==============================] - 5s 18ms/step - loss: 0.3562 - accuracy: 0.4527 - val_loss: 0.3773 - val_accuracy: 0.4374\n",
            "\n",
            "Epoch 00023: val_accuracy did not improve from 0.52025\n",
            "Epoch 24/25\n",
            "275/275 [==============================] - 5s 18ms/step - loss: 0.3559 - accuracy: 0.4554 - val_loss: 0.3779 - val_accuracy: 0.4178\n",
            "\n",
            "Epoch 00024: val_accuracy did not improve from 0.52025\n",
            "Epoch 25/25\n",
            "275/275 [==============================] - 5s 18ms/step - loss: 0.3552 - accuracy: 0.4552 - val_loss: 0.3769 - val_accuracy: 0.4415\n",
            "\n",
            "Epoch 00025: val_accuracy did not improve from 0.52025\n"
          ]
        }
      ]
    },
    {
      "cell_type": "markdown",
      "metadata": {
        "id": "e9IQVsxaMxeX"
      },
      "source": [
        "We got an accuracy score of 52%"
      ],
      "id": "e9IQVsxaMxeX"
    },
    {
      "cell_type": "code",
      "metadata": {
        "colab": {
          "base_uri": "https://localhost:8080/"
        },
        "id": "voouveiCOEha",
        "outputId": "94429454-6168-4dce-81f0-ae9741e30738"
      },
      "source": [
        "model3.save('/content/drive/MyDrive/sentiment-analysis/data-set/model3')"
      ],
      "id": "voouveiCOEha",
      "execution_count": null,
      "outputs": [
        {
          "output_type": "stream",
          "text": [
            "WARNING:absl:Found untraced functions such as lstm_cell_63_layer_call_fn, lstm_cell_63_layer_call_and_return_conditional_losses, lstm_cell_63_layer_call_fn, lstm_cell_63_layer_call_and_return_conditional_losses, lstm_cell_63_layer_call_and_return_conditional_losses while saving (showing 5 of 5). These functions will not be directly callable after loading.\n"
          ],
          "name": "stderr"
        },
        {
          "output_type": "stream",
          "text": [
            "INFO:tensorflow:Assets written to: /content/drive/MyDrive/sentiment-analysis/data-set/model3/assets\n"
          ],
          "name": "stdout"
        },
        {
          "output_type": "stream",
          "text": [
            "INFO:tensorflow:Assets written to: /content/drive/MyDrive/sentiment-analysis/data-set/model3/assets\n"
          ],
          "name": "stderr"
        }
      ]
    },
    {
      "cell_type": "code",
      "metadata": {
        "colab": {
          "base_uri": "https://localhost:8080/"
        },
        "id": "FwL06ocTzKfE",
        "outputId": "ffb7d237-5fc6-4be4-c9c8-3f055a434c1e"
      },
      "source": [
        "np.random.seed(42)\n",
        "model8 = Sequential()\n",
        "model8.add(layers.Embedding(vocab_size,40,input_length= 76)) #The embedding layer\n",
        "model8.add(layers.LSTM(15,dropout=0.3)) #Our LSTM layer\n",
        "model8.add(layers.Dense(11, activation='sigmoid'))\n",
        "\n",
        "\n",
        "model8.compile(optimizer='rmsprop',loss='binary_crossentropy', metrics=['accuracy'])\n",
        "\n",
        "checkpoint1 = ModelCheckpoint(\"best_model1.hdf5\", monitor='val_accuracy',\n",
        "                              verbose=1,save_best_only=True, mode='auto', \n",
        "                              period=1,save_weights_only=False)\n",
        "\n",
        "model8.summary()"
      ],
      "id": "FwL06ocTzKfE",
      "execution_count": null,
      "outputs": [
        {
          "output_type": "stream",
          "name": "stdout",
          "text": [
            "WARNING:tensorflow:`period` argument is deprecated. Please use `save_freq` to specify the frequency in number of batches seen.\n",
            "Model: \"sequential_27\"\n",
            "_________________________________________________________________\n",
            "Layer (type)                 Output Shape              Param #   \n",
            "=================================================================\n",
            "embedding_44 (Embedding)     (None, 76, 40)            624600    \n",
            "_________________________________________________________________\n",
            "lstm_37 (LSTM)               (None, 15)                3360      \n",
            "_________________________________________________________________\n",
            "dense_74 (Dense)             (None, 11)                176       \n",
            "=================================================================\n",
            "Total params: 628,136\n",
            "Trainable params: 628,136\n",
            "Non-trainable params: 0\n",
            "_________________________________________________________________\n"
          ]
        }
      ]
    },
    {
      "cell_type": "code",
      "metadata": {
        "colab": {
          "base_uri": "https://localhost:8080/"
        },
        "id": "I817ub4TzKS6",
        "outputId": "75be8fa1-8358-492a-cf22-08b3bd663a5a"
      },
      "source": [
        "history = model8.fit(X_train, y_train, epochs=5,validation_data=(X_test, y_test),callbacks=[checkpoint1])"
      ],
      "id": "I817ub4TzKS6",
      "execution_count": null,
      "outputs": [
        {
          "output_type": "stream",
          "name": "stdout",
          "text": [
            "Epoch 1/5\n",
            "WARNING:tensorflow:Model was constructed with shape (None, 76) for input KerasTensor(type_spec=TensorSpec(shape=(None, 76), dtype=tf.float32, name='embedding_44_input'), name='embedding_44_input', description=\"created by layer 'embedding_44_input'\"), but it was called on an input with incompatible shape (None, 200).\n",
            "WARNING:tensorflow:Model was constructed with shape (None, 76) for input KerasTensor(type_spec=TensorSpec(shape=(None, 76), dtype=tf.float32, name='embedding_44_input'), name='embedding_44_input', description=\"created by layer 'embedding_44_input'\"), but it was called on an input with incompatible shape (None, 200).\n",
            "275/275 [==============================] - ETA: 0s - loss: 0.4934 - accuracy: 0.1684WARNING:tensorflow:Model was constructed with shape (None, 76) for input KerasTensor(type_spec=TensorSpec(shape=(None, 76), dtype=tf.float32, name='embedding_44_input'), name='embedding_44_input', description=\"created by layer 'embedding_44_input'\"), but it was called on an input with incompatible shape (None, 200).\n",
            "275/275 [==============================] - 12s 37ms/step - loss: 0.4934 - accuracy: 0.1684 - val_loss: 0.4722 - val_accuracy: 0.2749\n",
            "\n",
            "Epoch 00001: val_accuracy improved from -inf to 0.27492, saving model to best_model1.hdf5\n",
            "Epoch 2/5\n",
            "275/275 [==============================] - 10s 35ms/step - loss: 0.4731 - accuracy: 0.2769 - val_loss: 0.4717 - val_accuracy: 0.2749\n",
            "\n",
            "Epoch 00002: val_accuracy did not improve from 0.27492\n",
            "Epoch 3/5\n",
            "275/275 [==============================] - 10s 35ms/step - loss: 0.4730 - accuracy: 0.2608 - val_loss: 0.4716 - val_accuracy: 0.2749\n",
            "\n",
            "Epoch 00003: val_accuracy did not improve from 0.27492\n",
            "Epoch 4/5\n",
            "275/275 [==============================] - 10s 35ms/step - loss: 0.4730 - accuracy: 0.2612 - val_loss: 0.4726 - val_accuracy: 0.0633\n",
            "\n",
            "Epoch 00004: val_accuracy did not improve from 0.27492\n",
            "Epoch 5/5\n",
            "275/275 [==============================] - 10s 35ms/step - loss: 0.4731 - accuracy: 0.2598 - val_loss: 0.4719 - val_accuracy: 0.2749\n",
            "\n",
            "Epoch 00005: val_accuracy did not improve from 0.27492\n"
          ]
        },
        {
          "output_type": "stream",
          "name": "stderr",
          "text": [
            "Exception ignored in: <function IteratorResourceDeleter.__del__ at 0x7f64899504d0>\n",
            "Traceback (most recent call last):\n",
            "  File \"/usr/local/lib/python3.7/dist-packages/tensorflow/python/data/ops/iterator_ops.py\", line 546, in __del__\n",
            "    handle=self._handle, deleter=self._deleter)\n",
            "  File \"/usr/local/lib/python3.7/dist-packages/tensorflow/python/ops/gen_dataset_ops.py\", line 1264, in delete_iterator\n",
            "    _ctx, \"DeleteIterator\", name, handle, deleter)\n",
            "KeyboardInterrupt: \n"
          ]
        }
      ]
    },
    {
      "cell_type": "code",
      "metadata": {
        "id": "TvDy_SekurgZ"
      },
      "source": [
        ""
      ],
      "id": "TvDy_SekurgZ",
      "execution_count": null,
      "outputs": []
    },
    {
      "cell_type": "code",
      "metadata": {
        "id": "R5qo341PsZvd"
      },
      "source": [
        ""
      ],
      "id": "R5qo341PsZvd",
      "execution_count": null,
      "outputs": []
    },
    {
      "cell_type": "code",
      "metadata": {
        "id": "d2dreHousZmP"
      },
      "source": [
        ""
      ],
      "id": "d2dreHousZmP",
      "execution_count": null,
      "outputs": []
    },
    {
      "cell_type": "code",
      "metadata": {
        "colab": {
          "base_uri": "https://localhost:8080/"
        },
        "id": "c6zq6nAMSNQL",
        "outputId": "457e827e-2eaa-4615-ac7f-4bbac3e6835a"
      },
      "source": [
        "yhat = model4.predict(X_test,\n",
        "                       verbose=1)\n",
        "preds = model4.predict_proba(X_test)\n",
        "preds = preds.round()\n",
        "preds"
      ],
      "id": "c6zq6nAMSNQL",
      "execution_count": null,
      "outputs": [
        {
          "output_type": "stream",
          "text": [
            "69/69 [==============================] - 0s 6ms/step\n"
          ],
          "name": "stdout"
        },
        {
          "output_type": "stream",
          "text": [
            "/usr/local/lib/python3.7/dist-packages/keras/engine/sequential.py:425: UserWarning: `model.predict_proba()` is deprecated and will be removed after 2021-01-01. Please use `model.predict()` instead.\n",
            "  warnings.warn('`model.predict_proba()` is deprecated and '\n"
          ],
          "name": "stderr"
        },
        {
          "output_type": "execute_result",
          "data": {
            "text/plain": [
              "array([[1., 0., 1., ..., 0., 0., 0.],\n",
              "       [0., 0., 0., ..., 1., 0., 0.],\n",
              "       [1., 0., 0., ..., 0., 0., 0.],\n",
              "       ...,\n",
              "       [1., 0., 1., ..., 0., 0., 0.],\n",
              "       [0., 0., 0., ..., 0., 0., 0.],\n",
              "       [0., 0., 0., ..., 0., 0., 0.]], dtype=float32)"
            ]
          },
          "metadata": {
            "tags": []
          },
          "execution_count": 181
        }
      ]
    },
    {
      "cell_type": "code",
      "metadata": {
        "id": "dbD8snVUSnY9"
      },
      "source": [
        "model4.save('/content/drive/MyDrive/sentiment-analysis/final_sentiment_model.h5')"
      ],
      "id": "dbD8snVUSnY9",
      "execution_count": null,
      "outputs": []
    },
    {
      "cell_type": "code",
      "metadata": {
        "id": "_JcUt-IvTP0c"
      },
      "source": [
        "from tensorflow.keras.models import load_model\n",
        "model = load_model('/content/drive/MyDrive/sentiment-analysis/final_sentiment_model.h5')"
      ],
      "id": "_JcUt-IvTP0c",
      "execution_count": null,
      "outputs": []
    },
    {
      "cell_type": "code",
      "metadata": {
        "colab": {
          "base_uri": "https://localhost:8080/"
        },
        "id": "P2unO-z_WmjC",
        "outputId": "7068affc-c997-49fb-c16e-480a91081086"
      },
      "source": [
        "y = model.predict(X_test)\n",
        "y.shape"
      ],
      "id": "P2unO-z_WmjC",
      "execution_count": null,
      "outputs": [
        {
          "output_type": "stream",
          "name": "stderr",
          "text": [
            "Exception ignored in: <function IteratorResourceDeleter.__del__ at 0x7f64899504d0>\n",
            "Traceback (most recent call last):\n",
            "  File \"/usr/local/lib/python3.7/dist-packages/tensorflow/python/data/ops/iterator_ops.py\", line 546, in __del__\n",
            "    handle=self._handle, deleter=self._deleter)\n",
            "  File \"/usr/local/lib/python3.7/dist-packages/tensorflow/python/ops/gen_dataset_ops.py\", line 1264, in delete_iterator\n",
            "    _ctx, \"DeleteIterator\", name, handle, deleter)\n",
            "KeyboardInterrupt: \n"
          ]
        },
        {
          "output_type": "execute_result",
          "data": {
            "text/plain": [
              "(2197, 11)"
            ]
          },
          "metadata": {},
          "execution_count": 105
        }
      ]
    },
    {
      "cell_type": "markdown",
      "metadata": {
        "id": "y096R7HaqiVP"
      },
      "source": [
        "# Testing on a custom tweet text\n",
        "emotions = ['anger',\n",
        "        'anticipation',\n",
        "        'disgust',\n",
        "        'fear',\n",
        "        'joy',\n",
        "        'love',\n",
        "        'optimism',\n",
        "        'pessimism',\n",
        "        'sadness',\n",
        "        'surprise',\n",
        "        'trust']\n"
      ],
      "id": "y096R7HaqiVP"
    },
    {
      "cell_type": "code",
      "metadata": {
        "id": "Em6iqPj68pYi"
      },
      "source": [
        "omi = \"I love my everything about Indian food 🥘 ❤️#enamored hehehe \"   "
      ],
      "id": "Em6iqPj68pYi",
      "execution_count": null,
      "outputs": []
    },
    {
      "cell_type": "code",
      "metadata": {
        "id": "JB0pG4njnUhX"
      },
      "source": [
        "def encoding_trial(text):\n",
        "  tokenizer = Tokenizer(num_words= 300)\n",
        "  tokenizer.fit_on_texts(text)\n",
        "  sequences = tokenizer.texts_to_sequences(text)\n",
        "  tweets = pad_sequences(sequences)\n",
        "  return tweets"
      ],
      "id": "JB0pG4njnUhX",
      "execution_count": null,
      "outputs": []
    },
    {
      "cell_type": "code",
      "metadata": {
        "colab": {
          "base_uri": "https://localhost:8080/",
          "height": 35
        },
        "id": "5ihojD3umhyc",
        "outputId": "3aa5809d-c2d6-41f2-bc6a-1d63fccb8152"
      },
      "source": [
        "clean_omi = tokenize_lemma_stopwords(omi)\n",
        "clean_encoded = encoding_trial(clean_omi)\n",
        "clean_omi"
      ],
      "id": "5ihojD3umhyc",
      "execution_count": null,
      "outputs": [
        {
          "output_type": "execute_result",
          "data": {
            "application/vnd.google.colaboratory.intrinsic+json": {
              "type": "string"
            },
            "text/plain": [
              "'love everything indian food shallow_pan_of_food red_heart enamored hehehe'"
            ]
          },
          "metadata": {},
          "execution_count": 95
        }
      ]
    },
    {
      "cell_type": "code",
      "metadata": {
        "colab": {
          "base_uri": "https://localhost:8080/"
        },
        "id": "wZwmGAHim_DK",
        "outputId": "5f8a8ea3-7e92-46eb-d6f1-e3bc92dd0be0"
      },
      "source": [
        "y_preds = model.predict(clean_encoded)\n",
        "y_preds"
      ],
      "id": "wZwmGAHim_DK",
      "execution_count": null,
      "outputs": [
        {
          "output_type": "execute_result",
          "data": {
            "text/plain": [
              "array([[0.4965694 , 0.40275267, 0.4632322 , 0.19896516, 0.504248  ,\n",
              "        0.3055402 , 0.355515  , 0.24281305, 0.37305075, 0.34639764,\n",
              "        0.20888835],\n",
              "       [0.5873239 , 0.40400076, 0.57129323, 0.3341218 , 0.35704988,\n",
              "        0.20433885, 0.3139935 , 0.2981884 , 0.41906452, 0.27236953,\n",
              "        0.17220286],\n",
              "       [0.33554497, 0.47949508, 0.3299147 , 0.39861834, 0.5359993 ,\n",
              "        0.2868261 , 0.48556584, 0.2011328 , 0.23527029, 0.26956642,\n",
              "        0.27714035],\n",
              "       [0.57370734, 0.3102901 , 0.58858377, 0.32281303, 0.26927274,\n",
              "        0.22821116, 0.21294543, 0.4753049 , 0.72725546, 0.32966903,\n",
              "        0.14484453],\n",
              "       [0.45295134, 0.41601223, 0.4649031 , 0.40166986, 0.45662725,\n",
              "        0.36628807, 0.43269122, 0.36998758, 0.44667292, 0.3446885 ,\n",
              "        0.28416914],\n",
              "       [0.57370734, 0.3102901 , 0.58858377, 0.32281303, 0.26927274,\n",
              "        0.22821116, 0.21294543, 0.4753049 , 0.72725546, 0.32966903,\n",
              "        0.14484453],\n",
              "       [0.33554497, 0.47949508, 0.3299147 , 0.39861834, 0.5359993 ,\n",
              "        0.2868261 , 0.48556584, 0.2011328 , 0.23527029, 0.26956642,\n",
              "        0.27714035],\n",
              "       [0.57370734, 0.3102901 , 0.58858377, 0.32281303, 0.26927274,\n",
              "        0.22821116, 0.21294543, 0.4753049 , 0.72725546, 0.32966903,\n",
              "        0.14484453],\n",
              "       [0.09294954, 0.43789256, 0.1050145 , 0.08592236, 0.9757172 ,\n",
              "        0.80384326, 0.8773552 , 0.14869553, 0.14179555, 0.4687637 ,\n",
              "        0.5508848 ],\n",
              "       [0.34065253, 0.33499083, 0.3247322 , 0.20070562, 0.6632028 ,\n",
              "        0.4240874 , 0.5971708 , 0.2291322 , 0.25521284, 0.2571535 ,\n",
              "        0.3516689 ],\n",
              "       [0.49743643, 0.31999975, 0.49439573, 0.30328906, 0.4199984 ,\n",
              "        0.31015438, 0.3429948 , 0.41510436, 0.5605523 , 0.2594186 ,\n",
              "        0.20129022],\n",
              "       [0.5862553 , 0.36535397, 0.56280196, 0.25486052, 0.3537285 ,\n",
              "        0.14811224, 0.28287324, 0.22048876, 0.3532828 , 0.14781824,\n",
              "        0.1328634 ],\n",
              "       [0.09828466, 0.41612864, 0.10778803, 0.08011496, 0.9791961 ,\n",
              "        0.8555149 , 0.8798121 , 0.15150619, 0.14983764, 0.54652524,\n",
              "        0.5709616 ],\n",
              "       [0.5184288 , 0.44336385, 0.4806555 , 0.26907992, 0.42616305,\n",
              "        0.32361612, 0.50897175, 0.2988299 , 0.35490674, 0.25174236,\n",
              "        0.3322082 ],\n",
              "       [0.19108677, 0.2390109 , 0.20705238, 0.22891498, 0.7138575 ,\n",
              "        0.904709  , 0.67230356, 0.5416558 , 0.53911424, 0.32079008,\n",
              "        0.516372  ],\n",
              "       [0.45295134, 0.41601223, 0.4649031 , 0.40166986, 0.45662725,\n",
              "        0.36628807, 0.43269122, 0.36998758, 0.44667292, 0.3446885 ,\n",
              "        0.28416914],\n",
              "       [0.09828466, 0.41612864, 0.10778803, 0.08011496, 0.9791961 ,\n",
              "        0.8555149 , 0.8798121 , 0.15150619, 0.14983764, 0.54652524,\n",
              "        0.5709616 ],\n",
              "       [0.5184288 , 0.44336385, 0.4806555 , 0.26907992, 0.42616305,\n",
              "        0.32361612, 0.50897175, 0.2988299 , 0.35490674, 0.25174236,\n",
              "        0.3322082 ],\n",
              "       [0.13604102, 0.3338316 , 0.14365658, 0.07983094, 0.93448704,\n",
              "        0.6437875 , 0.757504  , 0.12691328, 0.1295354 , 0.43744656,\n",
              "        0.3576534 ],\n",
              "       [0.09828466, 0.41612864, 0.10778803, 0.08011496, 0.9791961 ,\n",
              "        0.8555149 , 0.8798121 , 0.15150619, 0.14983764, 0.54652524,\n",
              "        0.5709616 ],\n",
              "       [0.33982736, 0.31353605, 0.32176957, 0.1746811 , 0.6213724 ,\n",
              "        0.41714266, 0.53172934, 0.4179251 , 0.4875474 , 0.25904515,\n",
              "        0.22864276],\n",
              "       [0.5184288 , 0.44336385, 0.4806555 , 0.26907992, 0.42616305,\n",
              "        0.32361612, 0.50897175, 0.2988299 , 0.35490674, 0.25174236,\n",
              "        0.3322082 ],\n",
              "       [0.45295134, 0.41601223, 0.4649031 , 0.40166986, 0.45662725,\n",
              "        0.36628807, 0.43269122, 0.36998758, 0.44667292, 0.3446885 ,\n",
              "        0.28416914],\n",
              "       [0.46196386, 0.34640133, 0.41668656, 0.21653512, 0.58431596,\n",
              "        0.40475178, 0.48823395, 0.29431558, 0.37506387, 0.30027646,\n",
              "        0.28763965],\n",
              "       [0.5873239 , 0.40400076, 0.57129323, 0.3341218 , 0.35704988,\n",
              "        0.20433885, 0.3139935 , 0.2981884 , 0.41906452, 0.27236953,\n",
              "        0.17220286],\n",
              "       [0.5873239 , 0.40400076, 0.57129323, 0.3341218 , 0.35704988,\n",
              "        0.20433885, 0.3139935 , 0.2981884 , 0.41906452, 0.27236953,\n",
              "        0.17220286],\n",
              "       [0.13604102, 0.3338316 , 0.14365658, 0.07983094, 0.93448704,\n",
              "        0.6437875 , 0.757504  , 0.12691328, 0.1295354 , 0.43744656,\n",
              "        0.3576534 ],\n",
              "       [0.45295134, 0.41601223, 0.4649031 , 0.40166986, 0.45662725,\n",
              "        0.36628807, 0.43269122, 0.36998758, 0.44667292, 0.3446885 ,\n",
              "        0.28416914],\n",
              "       [0.2270033 , 0.26783264, 0.24568048, 0.18328255, 0.893312  ,\n",
              "        0.9920234 , 0.7843615 , 0.41520447, 0.22841457, 0.5808943 ,\n",
              "        0.79458624],\n",
              "       [0.5862553 , 0.36535397, 0.56280196, 0.25486052, 0.3537285 ,\n",
              "        0.14811224, 0.28287324, 0.22048876, 0.3532828 , 0.14781824,\n",
              "        0.1328634 ],\n",
              "       [0.33982736, 0.31353605, 0.32176954, 0.17468104, 0.62137246,\n",
              "        0.41714263, 0.53172934, 0.41792506, 0.4875474 , 0.25904512,\n",
              "        0.22864276],\n",
              "       [0.4965694 , 0.40275267, 0.46323222, 0.19896516, 0.504248  ,\n",
              "        0.30554014, 0.355515  , 0.24281305, 0.37305075, 0.34639764,\n",
              "        0.20888835],\n",
              "       [0.4965694 , 0.40275267, 0.4632322 , 0.19896516, 0.504248  ,\n",
              "        0.3055402 , 0.355515  , 0.24281305, 0.37305075, 0.34639764,\n",
              "        0.20888835],\n",
              "       [0.5873239 , 0.40400076, 0.57129323, 0.3341218 , 0.35704988,\n",
              "        0.20433885, 0.3139935 , 0.2981884 , 0.41906452, 0.27236953,\n",
              "        0.17220286],\n",
              "       [0.8376113 , 0.15866539, 0.8396564 , 0.30114412, 0.08989555,\n",
              "        0.05234477, 0.11533579, 0.30212596, 0.54909515, 0.03852877,\n",
              "        0.04975322],\n",
              "       [0.45295134, 0.41601223, 0.4649031 , 0.40166986, 0.45662725,\n",
              "        0.36628807, 0.43269122, 0.36998758, 0.44667292, 0.3446885 ,\n",
              "        0.28416914],\n",
              "       [0.5187887 , 0.46637508, 0.5006335 , 0.37951553, 0.32580546,\n",
              "        0.20976233, 0.38293585, 0.24511519, 0.2987122 , 0.17801028,\n",
              "        0.21258345],\n",
              "       [0.33982736, 0.31353605, 0.32176957, 0.1746811 , 0.6213724 ,\n",
              "        0.41714266, 0.53172934, 0.4179251 , 0.4875474 , 0.25904515,\n",
              "        0.22864276],\n",
              "       [0.5184288 , 0.44336385, 0.4806555 , 0.26907992, 0.42616305,\n",
              "        0.32361612, 0.50897175, 0.2988299 , 0.35490674, 0.25174236,\n",
              "        0.3322082 ],\n",
              "       [0.45295134, 0.41601223, 0.4649031 , 0.40166986, 0.45662725,\n",
              "        0.36628807, 0.43269122, 0.36998758, 0.44667292, 0.3446885 ,\n",
              "        0.28416914],\n",
              "       [0.5873239 , 0.40400076, 0.57129323, 0.3341218 , 0.35704988,\n",
              "        0.20433885, 0.3139935 , 0.2981884 , 0.41906452, 0.27236953,\n",
              "        0.17220286],\n",
              "       [0.46196386, 0.34640133, 0.41668656, 0.21653512, 0.58431596,\n",
              "        0.40475178, 0.48823395, 0.29431558, 0.37506387, 0.30027646,\n",
              "        0.28763965],\n",
              "       [0.45295134, 0.41601223, 0.4649031 , 0.40166986, 0.45662725,\n",
              "        0.36628807, 0.43269122, 0.36998758, 0.44667292, 0.3446885 ,\n",
              "        0.28416914],\n",
              "       [0.46196386, 0.34640133, 0.41668656, 0.21653512, 0.58431596,\n",
              "        0.40475178, 0.48823395, 0.29431558, 0.37506387, 0.30027646,\n",
              "        0.28763965],\n",
              "       [0.5873239 , 0.40400076, 0.57129323, 0.3341218 , 0.35704988,\n",
              "        0.20433885, 0.3139935 , 0.2981884 , 0.41906452, 0.27236953,\n",
              "        0.17220286],\n",
              "       [0.5873239 , 0.40400076, 0.57129323, 0.3341218 , 0.35704988,\n",
              "        0.20433885, 0.3139935 , 0.2981884 , 0.41906452, 0.27236953,\n",
              "        0.17220286],\n",
              "       [0.13604102, 0.3338316 , 0.14365658, 0.07983094, 0.93448704,\n",
              "        0.6437875 , 0.757504  , 0.12691328, 0.1295354 , 0.43744656,\n",
              "        0.3576534 ],\n",
              "       [0.45295134, 0.41601223, 0.4649031 , 0.40166986, 0.45662725,\n",
              "        0.36628807, 0.43269122, 0.36998758, 0.44667292, 0.3446885 ,\n",
              "        0.28416914],\n",
              "       [0.09294954, 0.43789256, 0.1050145 , 0.08592236, 0.9757172 ,\n",
              "        0.80384326, 0.8773552 , 0.14869553, 0.14179555, 0.4687637 ,\n",
              "        0.5508848 ],\n",
              "       [0.57370734, 0.3102901 , 0.58858377, 0.32281303, 0.26927274,\n",
              "        0.22821116, 0.21294543, 0.4753049 , 0.72725546, 0.32966903,\n",
              "        0.14484453],\n",
              "       [0.13604102, 0.3338316 , 0.14365658, 0.07983094, 0.93448704,\n",
              "        0.6437875 , 0.757504  , 0.12691328, 0.1295354 , 0.43744656,\n",
              "        0.3576534 ],\n",
              "       [0.45295134, 0.41601223, 0.4649031 , 0.40166986, 0.45662725,\n",
              "        0.36628807, 0.43269122, 0.36998758, 0.44667292, 0.3446885 ,\n",
              "        0.28416914],\n",
              "       [0.5862553 , 0.36535397, 0.56280196, 0.25486052, 0.3537285 ,\n",
              "        0.14811224, 0.28287324, 0.22048876, 0.3532828 , 0.14781824,\n",
              "        0.1328634 ],\n",
              "       [0.57370734, 0.3102901 , 0.58858377, 0.32281303, 0.26927274,\n",
              "        0.22821116, 0.21294543, 0.4753049 , 0.72725546, 0.32966903,\n",
              "        0.14484453],\n",
              "       [0.33982736, 0.31353605, 0.32176957, 0.1746811 , 0.6213724 ,\n",
              "        0.41714266, 0.53172934, 0.4179251 , 0.4875474 , 0.25904515,\n",
              "        0.22864276],\n",
              "       [0.09294954, 0.43789256, 0.1050145 , 0.08592236, 0.9757172 ,\n",
              "        0.80384326, 0.8773552 , 0.14869553, 0.14179555, 0.4687637 ,\n",
              "        0.5508848 ],\n",
              "       [0.49743643, 0.31999975, 0.49439573, 0.30328906, 0.4199984 ,\n",
              "        0.31015438, 0.3429948 , 0.41510436, 0.5605523 , 0.2594186 ,\n",
              "        0.20129022],\n",
              "       [0.45295134, 0.41601223, 0.4649031 , 0.40166986, 0.45662725,\n",
              "        0.36628807, 0.43269122, 0.36998758, 0.44667292, 0.3446885 ,\n",
              "        0.28416914],\n",
              "       [0.57370734, 0.3102901 , 0.58858377, 0.32281303, 0.26927274,\n",
              "        0.22821116, 0.21294543, 0.4753049 , 0.72725546, 0.32966903,\n",
              "        0.14484453],\n",
              "       [0.5184288 , 0.44336385, 0.4806555 , 0.26907992, 0.42616305,\n",
              "        0.32361612, 0.50897175, 0.2988299 , 0.35490674, 0.25174236,\n",
              "        0.3322082 ],\n",
              "       [0.33982736, 0.31353605, 0.32176957, 0.1746811 , 0.6213724 ,\n",
              "        0.41714266, 0.53172934, 0.4179251 , 0.4875474 , 0.25904515,\n",
              "        0.22864276],\n",
              "       [0.23741397, 0.48274687, 0.22576791, 0.15594363, 0.7709681 ,\n",
              "        0.38279998, 0.63207287, 0.19133082, 0.22427028, 0.36979872,\n",
              "        0.29095304],\n",
              "       [0.5873239 , 0.40400076, 0.57129323, 0.33412182, 0.3570499 ,\n",
              "        0.20433885, 0.3139935 , 0.2981884 , 0.41906452, 0.27236953,\n",
              "        0.17220286],\n",
              "       [0.09294945, 0.43789244, 0.10501447, 0.08592227, 0.9757172 ,\n",
              "        0.80384326, 0.8773552 , 0.1486955 , 0.14179543, 0.46876368,\n",
              "        0.55088484],\n",
              "       [0.57370734, 0.3102901 , 0.58858377, 0.32281303, 0.26927274,\n",
              "        0.22821116, 0.21294543, 0.4753049 , 0.72725546, 0.32966903,\n",
              "        0.14484453],\n",
              "       [0.13604102, 0.3338316 , 0.14365658, 0.07983094, 0.93448704,\n",
              "        0.6437875 , 0.757504  , 0.12691328, 0.1295354 , 0.43744656,\n",
              "        0.3576534 ],\n",
              "       [0.45295134, 0.41601223, 0.4649031 , 0.40166986, 0.45662725,\n",
              "        0.36628807, 0.43269122, 0.36998758, 0.44667292, 0.3446885 ,\n",
              "        0.28416914],\n",
              "       [0.5862553 , 0.36535397, 0.56280196, 0.25486052, 0.3537285 ,\n",
              "        0.14811224, 0.28287324, 0.22048876, 0.3532828 , 0.14781824,\n",
              "        0.1328634 ],\n",
              "       [0.57370734, 0.3102901 , 0.58858377, 0.32281303, 0.26927274,\n",
              "        0.22821116, 0.21294543, 0.4753049 , 0.72725546, 0.32966903,\n",
              "        0.14484453],\n",
              "       [0.5862553 , 0.36535397, 0.56280196, 0.25486052, 0.3537285 ,\n",
              "        0.14811224, 0.28287324, 0.22048876, 0.3532828 , 0.14781824,\n",
              "        0.1328634 ],\n",
              "       [0.57370734, 0.3102901 , 0.5885837 , 0.32281306, 0.26927277,\n",
              "        0.22821116, 0.21294543, 0.4753049 , 0.72725564, 0.329669  ,\n",
              "        0.1448445 ],\n",
              "       [0.5862554 , 0.36535397, 0.56280196, 0.25486052, 0.3537285 ,\n",
              "        0.14811209, 0.2828732 , 0.2204887 , 0.35328278, 0.1478183 ,\n",
              "        0.13286349],\n",
              "       [0.57370734, 0.3102901 , 0.5885837 , 0.32281306, 0.26927277,\n",
              "        0.22821116, 0.21294543, 0.4753049 , 0.72725564, 0.329669  ,\n",
              "        0.1448445 ]], dtype=float32)"
            ]
          },
          "metadata": {},
          "execution_count": 82
        }
      ]
    },
    {
      "cell_type": "code",
      "metadata": {
        "id": "M-3KBGYvnzJL"
      },
      "source": [
        "def get_emotions(y_preds):\n",
        "\n",
        "  emotions = ['anger', 'anticipation', \n",
        "              'disgust', 'fear', 'joy', 'love', \n",
        "              'optimism', 'pessimism', 'sadness', 'surprise', 'trust']\n",
        "  result_emotions = [0 for i in range(11)]\n",
        "    \n",
        "  for i in range(len(y_preds)):\n",
        "      for j in range(11):\n",
        "          result_emotions[j]+=y_preds[i][j]\n",
        "\n",
        "  result_emotions = [x/len(y_preds) for x in result_emotions]\n",
        "  # norm = np.linalg.norm(result_emotions)\n",
        "  # result_emotions = result_emotions/norm\n",
        "  result_emotions = np.array(result_emotions)\n",
        "  result_emotions = result_emotions/ sum(result_emotions)\n",
        "    \n",
        "\n",
        "  emotion_dict = {}\n",
        "  for i in range(11):\n",
        "      emotion_dict[emotions[i]] = result_emotions[i]\n",
        "\n",
        "  return emotion_dict\n"
      ],
      "id": "M-3KBGYvnzJL",
      "execution_count": null,
      "outputs": []
    },
    {
      "cell_type": "markdown",
      "metadata": {
        "id": "QzVVtHkVMRtx"
      },
      "source": [
        "### Plotting the predicted probablities of emotions by the model\n"
      ],
      "id": "QzVVtHkVMRtx"
    },
    {
      "cell_type": "code",
      "metadata": {
        "id": "zTTcZA-ggtiR"
      },
      "source": [
        "emotion_dict = get_emotions(y_preds)\n"
      ],
      "id": "zTTcZA-ggtiR",
      "execution_count": null,
      "outputs": []
    },
    {
      "cell_type": "code",
      "metadata": {
        "colab": {
          "base_uri": "https://localhost:8080/",
          "height": 611
        },
        "id": "D6Uj7qmCg18x",
        "outputId": "adcecf9b-b2a3-42d0-f863-ccd230339b83"
      },
      "source": [
        "emotion_probablities = []\n",
        "\n",
        "for emotion_proba in emotion_dict.values():\n",
        "    emotion_probablities.append(emotion_proba)\n",
        "\n",
        "explode = (0, 0, 0, 0, 0.1, 0, 0, 0,0, 0 , 0)  # only \"explode\" the 2nd slice (i.e. 'Joy')\n",
        "\n",
        "fig1, ax1 = plt.subplots(figsize=(8,8))\n",
        "ax1.pie(emotion_probablities, explode=explode, labels=emotions, autopct='%1.1f%%',\n",
        "      shadow=True, startangle=90,colors=['red','sienna', 'gold', \n",
        "                  'slateblue', 'forestgreen' ,'pink', 'seagreen', 'purple', 'royalblue','cyan','teal'] )\n",
        "\n",
        "ax1.axis('equal')  # Equal aspect ratio ensures that pie is drawn as a circle.\n",
        "fig1.suptitle(omi, fontsize=20);\n",
        "plt.show();\n"
      ],
      "id": "D6Uj7qmCg18x",
      "execution_count": null,
      "outputs": [
        {
          "output_type": "stream",
          "name": "stderr",
          "text": [
            "/usr/local/lib/python3.7/dist-packages/matplotlib/backends/backend_agg.py:214: RuntimeWarning: Glyph 129368 missing from current font.\n",
            "  font.set_text(s, 0.0, flags=flags)\n",
            "/usr/local/lib/python3.7/dist-packages/matplotlib/backends/backend_agg.py:183: RuntimeWarning: Glyph 129368 missing from current font.\n",
            "  font.set_text(s, 0, flags=flags)\n"
          ]
        },
        {
          "output_type": "display_data",
          "data": {
            "image/png": "[encoded data removed]",
            "text/plain": [
              "<Figure size 576x576 with 1 Axes>"
            ]
          },
          "metadata": {}
        }
      ]
    }
  ]
}